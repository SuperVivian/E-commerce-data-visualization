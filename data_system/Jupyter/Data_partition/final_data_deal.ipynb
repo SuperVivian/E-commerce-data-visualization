{
 "cells": [
  {
   "cell_type": "markdown",
   "metadata": {},
   "source": [
    "### 数据描述：\n",
    "new_train.csv,3700万条记录<br>\n",
    "items.csv，1000万条记录<br>\n",
    "new_user.csv,16万记录<br>\n"
   ]
  },
  {
   "cell_type": "code",
   "execution_count": 29,
   "metadata": {},
   "outputs": [],
   "source": [
    "import pandas as pd\n",
    "import numpy\n",
    "import matplotlib.pyplot as plt"
   ]
  },
  {
   "cell_type": "code",
   "execution_count": 2,
   "metadata": {},
   "outputs": [],
   "source": [
    "train = pd.read_csv(\"new_train.csv\")"
   ]
  },
  {
   "cell_type": "code",
   "execution_count": 3,
   "metadata": {},
   "outputs": [
    {
     "data": {
      "text/plain": [
       "(37101158, 4)"
      ]
     },
     "execution_count": 3,
     "metadata": {},
     "output_type": "execute_result"
    }
   ],
   "source": [
    "train.shape"
   ]
  },
  {
   "cell_type": "code",
   "execution_count": 4,
   "metadata": {},
   "outputs": [
    {
     "data": {
      "text/html": [
       "<div>\n",
       "<style scoped>\n",
       "    .dataframe tbody tr th:only-of-type {\n",
       "        vertical-align: middle;\n",
       "    }\n",
       "\n",
       "    .dataframe tbody tr th {\n",
       "        vertical-align: top;\n",
       "    }\n",
       "\n",
       "    .dataframe thead th {\n",
       "        text-align: right;\n",
       "    }\n",
       "</style>\n",
       "<table border=\"1\" class=\"dataframe\">\n",
       "  <thead>\n",
       "    <tr style=\"text-align: right;\">\n",
       "      <th></th>\n",
       "      <th>item_id</th>\n",
       "      <th>behavior_type</th>\n",
       "      <th>date</th>\n",
       "      <th>user_id</th>\n",
       "    </tr>\n",
       "  </thead>\n",
       "  <tbody>\n",
       "    <tr>\n",
       "      <th>0</th>\n",
       "      <td>698567418</td>\n",
       "      <td>clk</td>\n",
       "      <td>20190610</td>\n",
       "      <td>840057631</td>\n",
       "    </tr>\n",
       "    <tr>\n",
       "      <th>1</th>\n",
       "      <td>1195431834</td>\n",
       "      <td>clk</td>\n",
       "      <td>20190616</td>\n",
       "      <td>840057631</td>\n",
       "    </tr>\n",
       "    <tr>\n",
       "      <th>2</th>\n",
       "      <td>324200109</td>\n",
       "      <td>clk</td>\n",
       "      <td>20190617</td>\n",
       "      <td>840057631</td>\n",
       "    </tr>\n",
       "  </tbody>\n",
       "</table>\n",
       "</div>"
      ],
      "text/plain": [
       "      item_id behavior_type      date    user_id\n",
       "0   698567418           clk  20190610  840057631\n",
       "1  1195431834           clk  20190616  840057631\n",
       "2   324200109           clk  20190617  840057631"
      ]
     },
     "execution_count": 4,
     "metadata": {},
     "output_type": "execute_result"
    }
   ],
   "source": [
    "train.head(3)"
   ]
  },
  {
   "cell_type": "code",
   "execution_count": 6,
   "metadata": {},
   "outputs": [],
   "source": [
    "item = pd.read_csv(\"items.csv\")"
   ]
  },
  {
   "cell_type": "code",
   "execution_count": 7,
   "metadata": {},
   "outputs": [
    {
     "data": {
      "text/plain": [
       "(10786748, 5)"
      ]
     },
     "execution_count": 7,
     "metadata": {},
     "output_type": "execute_result"
    }
   ],
   "source": [
    "item.shape"
   ]
  },
  {
   "cell_type": "code",
   "execution_count": 9,
   "metadata": {},
   "outputs": [
    {
     "data": {
      "text/plain": [
       "item_id      0\n",
       "class1_id    0\n",
       "class_id     0\n",
       "brand_id     0\n",
       "price        0\n",
       "dtype: int64"
      ]
     },
     "execution_count": 9,
     "metadata": {},
     "output_type": "execute_result"
    }
   ],
   "source": [
    "item.isnull().sum()"
   ]
  },
  {
   "cell_type": "code",
   "execution_count": 10,
   "metadata": {},
   "outputs": [],
   "source": [
    "item = item[{\"item_id\",\"class1_id\"}]"
   ]
  },
  {
   "cell_type": "code",
   "execution_count": 11,
   "metadata": {},
   "outputs": [],
   "source": [
    "train = pd.merge(train,item, on=[\"item_id\"])"
   ]
  },
  {
   "cell_type": "code",
   "execution_count": 12,
   "metadata": {},
   "outputs": [
    {
     "data": {
      "text/html": [
       "<div>\n",
       "<style scoped>\n",
       "    .dataframe tbody tr th:only-of-type {\n",
       "        vertical-align: middle;\n",
       "    }\n",
       "\n",
       "    .dataframe tbody tr th {\n",
       "        vertical-align: top;\n",
       "    }\n",
       "\n",
       "    .dataframe thead th {\n",
       "        text-align: right;\n",
       "    }\n",
       "</style>\n",
       "<table border=\"1\" class=\"dataframe\">\n",
       "  <thead>\n",
       "    <tr style=\"text-align: right;\">\n",
       "      <th></th>\n",
       "      <th>item_id</th>\n",
       "      <th>behavior_type</th>\n",
       "      <th>date</th>\n",
       "      <th>user_id</th>\n",
       "      <th>class1_id</th>\n",
       "    </tr>\n",
       "  </thead>\n",
       "  <tbody>\n",
       "    <tr>\n",
       "      <th>0</th>\n",
       "      <td>698567418</td>\n",
       "      <td>clk</td>\n",
       "      <td>20190610</td>\n",
       "      <td>840057631</td>\n",
       "      <td>1801</td>\n",
       "    </tr>\n",
       "    <tr>\n",
       "      <th>1</th>\n",
       "      <td>698567418</td>\n",
       "      <td>clk</td>\n",
       "      <td>20190611</td>\n",
       "      <td>2951745372</td>\n",
       "      <td>1801</td>\n",
       "    </tr>\n",
       "    <tr>\n",
       "      <th>2</th>\n",
       "      <td>698567418</td>\n",
       "      <td>clk</td>\n",
       "      <td>20190616</td>\n",
       "      <td>2983420456</td>\n",
       "      <td>1801</td>\n",
       "    </tr>\n",
       "    <tr>\n",
       "      <th>3</th>\n",
       "      <td>698567418</td>\n",
       "      <td>clk</td>\n",
       "      <td>20190618</td>\n",
       "      <td>857070631</td>\n",
       "      <td>1801</td>\n",
       "    </tr>\n",
       "    <tr>\n",
       "      <th>4</th>\n",
       "      <td>698567418</td>\n",
       "      <td>clk</td>\n",
       "      <td>20190614</td>\n",
       "      <td>445492082</td>\n",
       "      <td>1801</td>\n",
       "    </tr>\n",
       "  </tbody>\n",
       "</table>\n",
       "</div>"
      ],
      "text/plain": [
       "     item_id behavior_type      date     user_id  class1_id\n",
       "0  698567418           clk  20190610   840057631       1801\n",
       "1  698567418           clk  20190611  2951745372       1801\n",
       "2  698567418           clk  20190616  2983420456       1801\n",
       "3  698567418           clk  20190618   857070631       1801\n",
       "4  698567418           clk  20190614   445492082       1801"
      ]
     },
     "execution_count": 12,
     "metadata": {},
     "output_type": "execute_result"
    }
   ],
   "source": [
    "train.head()"
   ]
  },
  {
   "cell_type": "code",
   "execution_count": 13,
   "metadata": {},
   "outputs": [
    {
     "data": {
      "text/plain": [
       "(37101158, 5)"
      ]
     },
     "execution_count": 13,
     "metadata": {},
     "output_type": "execute_result"
    }
   ],
   "source": [
    "train.shape"
   ]
  },
  {
   "cell_type": "code",
   "execution_count": 14,
   "metadata": {},
   "outputs": [],
   "source": [
    "train = train[{\"behavior_type\",\"date\",\"class1_id\"}]"
   ]
  },
  {
   "cell_type": "code",
   "execution_count": 18,
   "metadata": {},
   "outputs": [
    {
     "data": {
      "text/plain": [
       "20"
      ]
     },
     "execution_count": 18,
     "metadata": {},
     "output_type": "execute_result"
    }
   ],
   "source": [
    "gc.collect()"
   ]
  },
  {
   "cell_type": "code",
   "execution_count": 19,
   "metadata": {},
   "outputs": [
    {
     "data": {
      "text/html": [
       "<div>\n",
       "<style scoped>\n",
       "    .dataframe tbody tr th:only-of-type {\n",
       "        vertical-align: middle;\n",
       "    }\n",
       "\n",
       "    .dataframe tbody tr th {\n",
       "        vertical-align: top;\n",
       "    }\n",
       "\n",
       "    .dataframe thead th {\n",
       "        text-align: right;\n",
       "    }\n",
       "</style>\n",
       "<table border=\"1\" class=\"dataframe\">\n",
       "  <thead>\n",
       "    <tr style=\"text-align: right;\">\n",
       "      <th></th>\n",
       "      <th>behavior_type</th>\n",
       "      <th>class1_id</th>\n",
       "      <th>date</th>\n",
       "    </tr>\n",
       "  </thead>\n",
       "  <tbody>\n",
       "    <tr>\n",
       "      <th>0</th>\n",
       "      <td>clk</td>\n",
       "      <td>1801</td>\n",
       "      <td>20190610</td>\n",
       "    </tr>\n",
       "    <tr>\n",
       "      <th>1</th>\n",
       "      <td>clk</td>\n",
       "      <td>1801</td>\n",
       "      <td>20190611</td>\n",
       "    </tr>\n",
       "    <tr>\n",
       "      <th>2</th>\n",
       "      <td>clk</td>\n",
       "      <td>1801</td>\n",
       "      <td>20190616</td>\n",
       "    </tr>\n",
       "  </tbody>\n",
       "</table>\n",
       "</div>"
      ],
      "text/plain": [
       "  behavior_type  class1_id      date\n",
       "0           clk       1801  20190610\n",
       "1           clk       1801  20190611\n",
       "2           clk       1801  20190616"
      ]
     },
     "execution_count": 19,
     "metadata": {},
     "output_type": "execute_result"
    }
   ],
   "source": [
    "train.head(3)"
   ]
  },
  {
   "cell_type": "code",
   "execution_count": 20,
   "metadata": {},
   "outputs": [],
   "source": [
    "train[\"id\"] = train.index"
   ]
  },
  {
   "cell_type": "code",
   "execution_count": 21,
   "metadata": {},
   "outputs": [],
   "source": [
    "train = train.groupby([\"date\",\"class1_id\",\"behavior_type\"])[\"id\"].count().reset_index(name=\"count_m\")"
   ]
  },
  {
   "cell_type": "code",
   "execution_count": 22,
   "metadata": {},
   "outputs": [
    {
     "data": {
      "text/html": [
       "<div>\n",
       "<style scoped>\n",
       "    .dataframe tbody tr th:only-of-type {\n",
       "        vertical-align: middle;\n",
       "    }\n",
       "\n",
       "    .dataframe tbody tr th {\n",
       "        vertical-align: top;\n",
       "    }\n",
       "\n",
       "    .dataframe thead th {\n",
       "        text-align: right;\n",
       "    }\n",
       "</style>\n",
       "<table border=\"1\" class=\"dataframe\">\n",
       "  <thead>\n",
       "    <tr style=\"text-align: right;\">\n",
       "      <th></th>\n",
       "      <th>date</th>\n",
       "      <th>class1_id</th>\n",
       "      <th>behavior_type</th>\n",
       "      <th>count_m</th>\n",
       "    </tr>\n",
       "  </thead>\n",
       "  <tbody>\n",
       "    <tr>\n",
       "      <th>0</th>\n",
       "      <td>20190610</td>\n",
       "      <td>11</td>\n",
       "      <td>buy</td>\n",
       "      <td>173</td>\n",
       "    </tr>\n",
       "    <tr>\n",
       "      <th>1</th>\n",
       "      <td>20190610</td>\n",
       "      <td>11</td>\n",
       "      <td>cart</td>\n",
       "      <td>746</td>\n",
       "    </tr>\n",
       "    <tr>\n",
       "      <th>2</th>\n",
       "      <td>20190610</td>\n",
       "      <td>11</td>\n",
       "      <td>clk</td>\n",
       "      <td>9520</td>\n",
       "    </tr>\n",
       "    <tr>\n",
       "      <th>3</th>\n",
       "      <td>20190610</td>\n",
       "      <td>11</td>\n",
       "      <td>collect</td>\n",
       "      <td>223</td>\n",
       "    </tr>\n",
       "    <tr>\n",
       "      <th>4</th>\n",
       "      <td>20190610</td>\n",
       "      <td>14</td>\n",
       "      <td>buy</td>\n",
       "      <td>9</td>\n",
       "    </tr>\n",
       "  </tbody>\n",
       "</table>\n",
       "</div>"
      ],
      "text/plain": [
       "       date  class1_id behavior_type  count_m\n",
       "0  20190610         11           buy      173\n",
       "1  20190610         11          cart      746\n",
       "2  20190610         11           clk     9520\n",
       "3  20190610         11       collect      223\n",
       "4  20190610         14           buy        9"
      ]
     },
     "execution_count": 22,
     "metadata": {},
     "output_type": "execute_result"
    }
   ],
   "source": [
    "train.head()"
   ]
  },
  {
   "cell_type": "code",
   "execution_count": 23,
   "metadata": {},
   "outputs": [
    {
     "data": {
      "text/plain": [
       "(4476, 4)"
      ]
     },
     "execution_count": 23,
     "metadata": {},
     "output_type": "execute_result"
    }
   ],
   "source": [
    "train.shape"
   ]
  },
  {
   "cell_type": "code",
   "execution_count": 24,
   "metadata": {},
   "outputs": [
    {
     "data": {
      "text/plain": [
       "111"
      ]
     },
     "execution_count": 24,
     "metadata": {},
     "output_type": "execute_result"
    }
   ],
   "source": [
    "train[\"class1_id\"].nunique()"
   ]
  },
  {
   "cell_type": "markdown",
   "metadata": {},
   "source": [
    "### 第一张表构建完成1_2_behavior"
   ]
  },
  {
   "cell_type": "code",
   "execution_count": 25,
   "metadata": {},
   "outputs": [],
   "source": [
    "train.to_csv(\"new_1_2_behavior.csv\",index = False)"
   ]
  },
  {
   "cell_type": "markdown",
   "metadata": {},
   "source": []
  },
  {
   "cell_type": "markdown",
   "metadata": {},
   "source": []
  },
  {
   "cell_type": "code",
   "execution_count": 26,
   "metadata": {},
   "outputs": [],
   "source": [
    "train = pd.read_csv(\"new_train.csv\")\n"
   ]
  },
  {
   "cell_type": "code",
   "execution_count": 28,
   "metadata": {},
   "outputs": [
    {
     "data": {
      "text/plain": [
       "(10786748, 2)"
      ]
     },
     "execution_count": 28,
     "metadata": {},
     "output_type": "execute_result"
    }
   ],
   "source": [
    "item.shape"
   ]
  },
  {
   "cell_type": "code",
   "execution_count": 29,
   "metadata": {},
   "outputs": [
    {
     "data": {
      "text/plain": [
       "(37101158, 4)"
      ]
     },
     "execution_count": 29,
     "metadata": {},
     "output_type": "execute_result"
    }
   ],
   "source": [
    "train.shape"
   ]
  },
  {
   "cell_type": "code",
   "execution_count": 30,
   "metadata": {},
   "outputs": [],
   "source": [
    "train = pd.merge(train,item, on=[\"item_id\"])"
   ]
  },
  {
   "cell_type": "code",
   "execution_count": 32,
   "metadata": {},
   "outputs": [
    {
     "data": {
      "text/html": [
       "<div>\n",
       "<style scoped>\n",
       "    .dataframe tbody tr th:only-of-type {\n",
       "        vertical-align: middle;\n",
       "    }\n",
       "\n",
       "    .dataframe tbody tr th {\n",
       "        vertical-align: top;\n",
       "    }\n",
       "\n",
       "    .dataframe thead th {\n",
       "        text-align: right;\n",
       "    }\n",
       "</style>\n",
       "<table border=\"1\" class=\"dataframe\">\n",
       "  <thead>\n",
       "    <tr style=\"text-align: right;\">\n",
       "      <th></th>\n",
       "      <th>item_id</th>\n",
       "      <th>behavior_type</th>\n",
       "      <th>date</th>\n",
       "      <th>user_id</th>\n",
       "      <th>class1_id</th>\n",
       "    </tr>\n",
       "  </thead>\n",
       "  <tbody>\n",
       "    <tr>\n",
       "      <th>0</th>\n",
       "      <td>698567418</td>\n",
       "      <td>clk</td>\n",
       "      <td>20190610</td>\n",
       "      <td>840057631</td>\n",
       "      <td>1801</td>\n",
       "    </tr>\n",
       "    <tr>\n",
       "      <th>1</th>\n",
       "      <td>698567418</td>\n",
       "      <td>clk</td>\n",
       "      <td>20190611</td>\n",
       "      <td>2951745372</td>\n",
       "      <td>1801</td>\n",
       "    </tr>\n",
       "    <tr>\n",
       "      <th>2</th>\n",
       "      <td>698567418</td>\n",
       "      <td>clk</td>\n",
       "      <td>20190616</td>\n",
       "      <td>2983420456</td>\n",
       "      <td>1801</td>\n",
       "    </tr>\n",
       "  </tbody>\n",
       "</table>\n",
       "</div>"
      ],
      "text/plain": [
       "     item_id behavior_type      date     user_id  class1_id\n",
       "0  698567418           clk  20190610   840057631       1801\n",
       "1  698567418           clk  20190611  2951745372       1801\n",
       "2  698567418           clk  20190616  2983420456       1801"
      ]
     },
     "execution_count": 32,
     "metadata": {},
     "output_type": "execute_result"
    }
   ],
   "source": [
    "train.head(3)"
   ]
  },
  {
   "cell_type": "code",
   "execution_count": 33,
   "metadata": {},
   "outputs": [
    {
     "data": {
      "text/plain": [
       "(37101158, 5)"
      ]
     },
     "execution_count": 33,
     "metadata": {},
     "output_type": "execute_result"
    }
   ],
   "source": [
    "train.shape"
   ]
  },
  {
   "cell_type": "code",
   "execution_count": 34,
   "metadata": {},
   "outputs": [],
   "source": [
    "train = train[{\"behavior_type\",\"class1_id\",\"user_id\"}]"
   ]
  },
  {
   "cell_type": "code",
   "execution_count": 35,
   "metadata": {},
   "outputs": [
    {
     "data": {
      "text/plain": [
       "(37101158, 3)"
      ]
     },
     "execution_count": 35,
     "metadata": {},
     "output_type": "execute_result"
    }
   ],
   "source": [
    "train.shape"
   ]
  },
  {
   "cell_type": "code",
   "execution_count": 16,
   "metadata": {},
   "outputs": [],
   "source": [
    "user = pd.read_csv(\"new_user.csv\")"
   ]
  },
  {
   "cell_type": "code",
   "execution_count": 38,
   "metadata": {},
   "outputs": [
    {
     "data": {
      "text/plain": [
       "(163897, 6)"
      ]
     },
     "execution_count": 38,
     "metadata": {},
     "output_type": "execute_result"
    }
   ],
   "source": [
    "user.shape"
   ]
  },
  {
   "cell_type": "code",
   "execution_count": 17,
   "metadata": {},
   "outputs": [
    {
     "data": {
      "text/html": [
       "<div>\n",
       "<style scoped>\n",
       "    .dataframe tbody tr th:only-of-type {\n",
       "        vertical-align: middle;\n",
       "    }\n",
       "\n",
       "    .dataframe tbody tr th {\n",
       "        vertical-align: top;\n",
       "    }\n",
       "\n",
       "    .dataframe thead th {\n",
       "        text-align: right;\n",
       "    }\n",
       "</style>\n",
       "<table border=\"1\" class=\"dataframe\">\n",
       "  <thead>\n",
       "    <tr style=\"text-align: right;\">\n",
       "      <th></th>\n",
       "      <th>pred_stage</th>\n",
       "      <th>user_id</th>\n",
       "      <th>pred_age_level</th>\n",
       "      <th>pred_gender</th>\n",
       "      <th>predict_income</th>\n",
       "      <th>province_id</th>\n",
       "    </tr>\n",
       "  </thead>\n",
       "  <tbody>\n",
       "    <tr>\n",
       "      <th>0</th>\n",
       "      <td>1,6,4,2</td>\n",
       "      <td>48100333</td>\n",
       "      <td>[35,39]</td>\n",
       "      <td>M</td>\n",
       "      <td>8229.2</td>\n",
       "      <td>19</td>\n",
       "    </tr>\n",
       "    <tr>\n",
       "      <th>1</th>\n",
       "      <td>1,6,4</td>\n",
       "      <td>111725039</td>\n",
       "      <td>[25,29]</td>\n",
       "      <td>F</td>\n",
       "      <td>6871.9</td>\n",
       "      <td>6</td>\n",
       "    </tr>\n",
       "    <tr>\n",
       "      <th>2</th>\n",
       "      <td>1,4,8,5,2</td>\n",
       "      <td>124649973</td>\n",
       "      <td>[30,34]</td>\n",
       "      <td>M</td>\n",
       "      <td>7025.7</td>\n",
       "      <td>8</td>\n",
       "    </tr>\n",
       "    <tr>\n",
       "      <th>3</th>\n",
       "      <td>1,4,5,2</td>\n",
       "      <td>127725416</td>\n",
       "      <td>[30,34]</td>\n",
       "      <td>F</td>\n",
       "      <td>10446.0</td>\n",
       "      <td>25</td>\n",
       "    </tr>\n",
       "    <tr>\n",
       "      <th>4</th>\n",
       "      <td>1,6,8,5,2</td>\n",
       "      <td>315213555</td>\n",
       "      <td>[25,29]</td>\n",
       "      <td>F</td>\n",
       "      <td>7187.5</td>\n",
       "      <td>11</td>\n",
       "    </tr>\n",
       "  </tbody>\n",
       "</table>\n",
       "</div>"
      ],
      "text/plain": [
       "  pred_stage    user_id pred_age_level pred_gender  predict_income  \\\n",
       "0    1,6,4,2   48100333        [35,39]           M          8229.2   \n",
       "1      1,6,4  111725039        [25,29]           F          6871.9   \n",
       "2  1,4,8,5,2  124649973        [30,34]           M          7025.7   \n",
       "3    1,4,5,2  127725416        [30,34]           F         10446.0   \n",
       "4  1,6,8,5,2  315213555        [25,29]           F          7187.5   \n",
       "\n",
       "   province_id  \n",
       "0           19  \n",
       "1            6  \n",
       "2            8  \n",
       "3           25  \n",
       "4           11  "
      ]
     },
     "execution_count": 17,
     "metadata": {},
     "output_type": "execute_result"
    }
   ],
   "source": [
    "user.head()"
   ]
  },
  {
   "cell_type": "code",
   "execution_count": 40,
   "metadata": {},
   "outputs": [],
   "source": [
    "user = user[{\"pred_age_level\",\"user_id\"}]"
   ]
  },
  {
   "cell_type": "code",
   "execution_count": 41,
   "metadata": {},
   "outputs": [
    {
     "data": {
      "text/html": [
       "<div>\n",
       "<style scoped>\n",
       "    .dataframe tbody tr th:only-of-type {\n",
       "        vertical-align: middle;\n",
       "    }\n",
       "\n",
       "    .dataframe tbody tr th {\n",
       "        vertical-align: top;\n",
       "    }\n",
       "\n",
       "    .dataframe thead th {\n",
       "        text-align: right;\n",
       "    }\n",
       "</style>\n",
       "<table border=\"1\" class=\"dataframe\">\n",
       "  <thead>\n",
       "    <tr style=\"text-align: right;\">\n",
       "      <th></th>\n",
       "      <th>user_id</th>\n",
       "      <th>behavior_type</th>\n",
       "      <th>class1_id</th>\n",
       "    </tr>\n",
       "  </thead>\n",
       "  <tbody>\n",
       "    <tr>\n",
       "      <th>0</th>\n",
       "      <td>840057631</td>\n",
       "      <td>clk</td>\n",
       "      <td>1801</td>\n",
       "    </tr>\n",
       "    <tr>\n",
       "      <th>1</th>\n",
       "      <td>2951745372</td>\n",
       "      <td>clk</td>\n",
       "      <td>1801</td>\n",
       "    </tr>\n",
       "    <tr>\n",
       "      <th>2</th>\n",
       "      <td>2983420456</td>\n",
       "      <td>clk</td>\n",
       "      <td>1801</td>\n",
       "    </tr>\n",
       "  </tbody>\n",
       "</table>\n",
       "</div>"
      ],
      "text/plain": [
       "      user_id behavior_type  class1_id\n",
       "0   840057631           clk       1801\n",
       "1  2951745372           clk       1801\n",
       "2  2983420456           clk       1801"
      ]
     },
     "execution_count": 41,
     "metadata": {},
     "output_type": "execute_result"
    }
   ],
   "source": [
    "train.head(3)"
   ]
  },
  {
   "cell_type": "code",
   "execution_count": 42,
   "metadata": {},
   "outputs": [],
   "source": [
    "train = pd.merge(train,user, on=[\"user_id\"])"
   ]
  },
  {
   "cell_type": "code",
   "execution_count": 43,
   "metadata": {},
   "outputs": [
    {
     "data": {
      "text/plain": [
       "user_id           0\n",
       "behavior_type     0\n",
       "class1_id         0\n",
       "pred_age_level    0\n",
       "dtype: int64"
      ]
     },
     "execution_count": 43,
     "metadata": {},
     "output_type": "execute_result"
    }
   ],
   "source": [
    "train.isnull().sum()"
   ]
  },
  {
   "cell_type": "code",
   "execution_count": 44,
   "metadata": {},
   "outputs": [
    {
     "data": {
      "text/plain": [
       "(37101158, 4)"
      ]
     },
     "execution_count": 44,
     "metadata": {},
     "output_type": "execute_result"
    }
   ],
   "source": [
    "train.shape"
   ]
  },
  {
   "cell_type": "code",
   "execution_count": 45,
   "metadata": {},
   "outputs": [
    {
     "data": {
      "text/html": [
       "<div>\n",
       "<style scoped>\n",
       "    .dataframe tbody tr th:only-of-type {\n",
       "        vertical-align: middle;\n",
       "    }\n",
       "\n",
       "    .dataframe tbody tr th {\n",
       "        vertical-align: top;\n",
       "    }\n",
       "\n",
       "    .dataframe thead th {\n",
       "        text-align: right;\n",
       "    }\n",
       "</style>\n",
       "<table border=\"1\" class=\"dataframe\">\n",
       "  <thead>\n",
       "    <tr style=\"text-align: right;\">\n",
       "      <th></th>\n",
       "      <th>user_id</th>\n",
       "      <th>behavior_type</th>\n",
       "      <th>class1_id</th>\n",
       "      <th>pred_age_level</th>\n",
       "    </tr>\n",
       "  </thead>\n",
       "  <tbody>\n",
       "    <tr>\n",
       "      <th>0</th>\n",
       "      <td>840057631</td>\n",
       "      <td>clk</td>\n",
       "      <td>1801</td>\n",
       "      <td>[25,29]</td>\n",
       "    </tr>\n",
       "    <tr>\n",
       "      <th>1</th>\n",
       "      <td>840057631</td>\n",
       "      <td>clk</td>\n",
       "      <td>16</td>\n",
       "      <td>[25,29]</td>\n",
       "    </tr>\n",
       "    <tr>\n",
       "      <th>2</th>\n",
       "      <td>840057631</td>\n",
       "      <td>clk</td>\n",
       "      <td>1801</td>\n",
       "      <td>[25,29]</td>\n",
       "    </tr>\n",
       "    <tr>\n",
       "      <th>3</th>\n",
       "      <td>840057631</td>\n",
       "      <td>clk</td>\n",
       "      <td>30</td>\n",
       "      <td>[25,29]</td>\n",
       "    </tr>\n",
       "  </tbody>\n",
       "</table>\n",
       "</div>"
      ],
      "text/plain": [
       "     user_id behavior_type  class1_id pred_age_level\n",
       "0  840057631           clk       1801        [25,29]\n",
       "1  840057631           clk         16        [25,29]\n",
       "2  840057631           clk       1801        [25,29]\n",
       "3  840057631           clk         30        [25,29]"
      ]
     },
     "execution_count": 45,
     "metadata": {},
     "output_type": "execute_result"
    }
   ],
   "source": [
    "train.head(4)"
   ]
  },
  {
   "cell_type": "code",
   "execution_count": 46,
   "metadata": {},
   "outputs": [],
   "source": [
    "train = train[{\"behavior_type\",\"class1_id\",\"pred_age_level\"}]"
   ]
  },
  {
   "cell_type": "code",
   "execution_count": 47,
   "metadata": {},
   "outputs": [
    {
     "data": {
      "text/plain": [
       "(37101158, 3)"
      ]
     },
     "execution_count": 47,
     "metadata": {},
     "output_type": "execute_result"
    }
   ],
   "source": [
    "train.shape"
   ]
  },
  {
   "cell_type": "code",
   "execution_count": 48,
   "metadata": {},
   "outputs": [
    {
     "data": {
      "text/html": [
       "<div>\n",
       "<style scoped>\n",
       "    .dataframe tbody tr th:only-of-type {\n",
       "        vertical-align: middle;\n",
       "    }\n",
       "\n",
       "    .dataframe tbody tr th {\n",
       "        vertical-align: top;\n",
       "    }\n",
       "\n",
       "    .dataframe thead th {\n",
       "        text-align: right;\n",
       "    }\n",
       "</style>\n",
       "<table border=\"1\" class=\"dataframe\">\n",
       "  <thead>\n",
       "    <tr style=\"text-align: right;\">\n",
       "      <th></th>\n",
       "      <th>behavior_type</th>\n",
       "      <th>class1_id</th>\n",
       "      <th>pred_age_level</th>\n",
       "    </tr>\n",
       "  </thead>\n",
       "  <tbody>\n",
       "    <tr>\n",
       "      <th>0</th>\n",
       "      <td>clk</td>\n",
       "      <td>1801</td>\n",
       "      <td>[25,29]</td>\n",
       "    </tr>\n",
       "    <tr>\n",
       "      <th>1</th>\n",
       "      <td>clk</td>\n",
       "      <td>16</td>\n",
       "      <td>[25,29]</td>\n",
       "    </tr>\n",
       "    <tr>\n",
       "      <th>2</th>\n",
       "      <td>clk</td>\n",
       "      <td>1801</td>\n",
       "      <td>[25,29]</td>\n",
       "    </tr>\n",
       "  </tbody>\n",
       "</table>\n",
       "</div>"
      ],
      "text/plain": [
       "  behavior_type  class1_id pred_age_level\n",
       "0           clk       1801        [25,29]\n",
       "1           clk         16        [25,29]\n",
       "2           clk       1801        [25,29]"
      ]
     },
     "execution_count": 48,
     "metadata": {},
     "output_type": "execute_result"
    }
   ],
   "source": [
    "train.head(3)"
   ]
  },
  {
   "cell_type": "code",
   "execution_count": 49,
   "metadata": {},
   "outputs": [],
   "source": [
    "train = train[{\"class1_id\",\"pred_age_level\"}]"
   ]
  },
  {
   "cell_type": "code",
   "execution_count": 50,
   "metadata": {},
   "outputs": [
    {
     "data": {
      "text/plain": [
       "(37101158, 2)"
      ]
     },
     "execution_count": 50,
     "metadata": {},
     "output_type": "execute_result"
    }
   ],
   "source": [
    "train.shape"
   ]
  },
  {
   "cell_type": "code",
   "execution_count": 51,
   "metadata": {},
   "outputs": [
    {
     "data": {
      "text/html": [
       "<div>\n",
       "<style scoped>\n",
       "    .dataframe tbody tr th:only-of-type {\n",
       "        vertical-align: middle;\n",
       "    }\n",
       "\n",
       "    .dataframe tbody tr th {\n",
       "        vertical-align: top;\n",
       "    }\n",
       "\n",
       "    .dataframe thead th {\n",
       "        text-align: right;\n",
       "    }\n",
       "</style>\n",
       "<table border=\"1\" class=\"dataframe\">\n",
       "  <thead>\n",
       "    <tr style=\"text-align: right;\">\n",
       "      <th></th>\n",
       "      <th>class1_id</th>\n",
       "      <th>pred_age_level</th>\n",
       "    </tr>\n",
       "  </thead>\n",
       "  <tbody>\n",
       "    <tr>\n",
       "      <th>0</th>\n",
       "      <td>1801</td>\n",
       "      <td>[25,29]</td>\n",
       "    </tr>\n",
       "    <tr>\n",
       "      <th>1</th>\n",
       "      <td>16</td>\n",
       "      <td>[25,29]</td>\n",
       "    </tr>\n",
       "    <tr>\n",
       "      <th>2</th>\n",
       "      <td>1801</td>\n",
       "      <td>[25,29]</td>\n",
       "    </tr>\n",
       "  </tbody>\n",
       "</table>\n",
       "</div>"
      ],
      "text/plain": [
       "   class1_id pred_age_level\n",
       "0       1801        [25,29]\n",
       "1         16        [25,29]\n",
       "2       1801        [25,29]"
      ]
     },
     "execution_count": 51,
     "metadata": {},
     "output_type": "execute_result"
    }
   ],
   "source": [
    "train.head(3)"
   ]
  },
  {
   "cell_type": "markdown",
   "metadata": {},
   "source": [
    "### 第二张表构建完成2_4_behavior"
   ]
  },
  {
   "cell_type": "code",
   "execution_count": 52,
   "metadata": {},
   "outputs": [],
   "source": [
    "train.to_csv(\"new_2_4_behavior.csv\",index = False)"
   ]
  },
  {
   "cell_type": "markdown",
   "metadata": {},
   "source": []
  },
  {
   "cell_type": "markdown",
   "metadata": {},
   "source": []
  },
  {
   "cell_type": "code",
   "execution_count": 5,
   "metadata": {},
   "outputs": [
    {
     "name": "stderr",
     "output_type": "stream",
     "text": [
      "D:\\myprogram\\Anaconda\\lib\\site-packages\\ipykernel_launcher.py:1: FutureWarning: read_table is deprecated, use read_csv instead, passing sep='\\t'.\n",
      "  \"\"\"Entry point for launching an IPython kernel.\n"
     ]
    }
   ],
   "source": [
    "new_user = pd.read_table(\"classify_value1.txt\",header =None)\n",
    "new_user = new_user.rename(columns={0:\"user_id\",14:\"user_kind\"})\n",
    "new_user = new_user[{\"user_id\",\"user_kind\"}]"
   ]
  },
  {
   "cell_type": "code",
   "execution_count": 6,
   "metadata": {},
   "outputs": [
    {
     "data": {
      "text/html": [
       "<div>\n",
       "<style scoped>\n",
       "    .dataframe tbody tr th:only-of-type {\n",
       "        vertical-align: middle;\n",
       "    }\n",
       "\n",
       "    .dataframe tbody tr th {\n",
       "        vertical-align: top;\n",
       "    }\n",
       "\n",
       "    .dataframe thead th {\n",
       "        text-align: right;\n",
       "    }\n",
       "</style>\n",
       "<table border=\"1\" class=\"dataframe\">\n",
       "  <thead>\n",
       "    <tr style=\"text-align: right;\">\n",
       "      <th></th>\n",
       "      <th>0</th>\n",
       "      <th>1</th>\n",
       "      <th>2</th>\n",
       "      <th>3</th>\n",
       "      <th>4</th>\n",
       "      <th>5</th>\n",
       "      <th>6</th>\n",
       "      <th>7</th>\n",
       "      <th>8</th>\n",
       "      <th>9</th>\n",
       "      <th>10</th>\n",
       "      <th>11</th>\n",
       "      <th>12</th>\n",
       "      <th>13</th>\n",
       "      <th>14</th>\n",
       "    </tr>\n",
       "  </thead>\n",
       "  <tbody>\n",
       "    <tr>\n",
       "      <th>0</th>\n",
       "      <td>48100333</td>\n",
       "      <td>8229.2</td>\n",
       "      <td>74.0</td>\n",
       "      <td>7.0</td>\n",
       "      <td>0.0</td>\n",
       "      <td>10.0</td>\n",
       "      <td>4</td>\n",
       "      <td>4</td>\n",
       "      <td>5</td>\n",
       "      <td>4</td>\n",
       "      <td>1362.428571</td>\n",
       "      <td>265.00</td>\n",
       "      <td>7950.0</td>\n",
       "      <td>38.0</td>\n",
       "      <td>4</td>\n",
       "    </tr>\n",
       "    <tr>\n",
       "      <th>1</th>\n",
       "      <td>111725039</td>\n",
       "      <td>6871.9</td>\n",
       "      <td>387.0</td>\n",
       "      <td>3.0</td>\n",
       "      <td>0.0</td>\n",
       "      <td>9.0</td>\n",
       "      <td>1</td>\n",
       "      <td>3</td>\n",
       "      <td>3</td>\n",
       "      <td>3</td>\n",
       "      <td>197.500000</td>\n",
       "      <td>146.00</td>\n",
       "      <td>398.0</td>\n",
       "      <td>48.5</td>\n",
       "      <td>4</td>\n",
       "    </tr>\n",
       "    <tr>\n",
       "      <th>2</th>\n",
       "      <td>124649973</td>\n",
       "      <td>7025.7</td>\n",
       "      <td>17.0</td>\n",
       "      <td>2.0</td>\n",
       "      <td>0.0</td>\n",
       "      <td>3.0</td>\n",
       "      <td>1</td>\n",
       "      <td>1</td>\n",
       "      <td>1</td>\n",
       "      <td>1</td>\n",
       "      <td>63.000000</td>\n",
       "      <td>63.00</td>\n",
       "      <td>68.0</td>\n",
       "      <td>58.0</td>\n",
       "      <td>4</td>\n",
       "    </tr>\n",
       "    <tr>\n",
       "      <th>3</th>\n",
       "      <td>127725416</td>\n",
       "      <td>10446.0</td>\n",
       "      <td>372.0</td>\n",
       "      <td>21.0</td>\n",
       "      <td>27.0</td>\n",
       "      <td>30.0</td>\n",
       "      <td>4</td>\n",
       "      <td>7</td>\n",
       "      <td>13</td>\n",
       "      <td>13</td>\n",
       "      <td>248.637143</td>\n",
       "      <td>158.00</td>\n",
       "      <td>1999.0</td>\n",
       "      <td>36.3</td>\n",
       "      <td>2</td>\n",
       "    </tr>\n",
       "    <tr>\n",
       "      <th>4</th>\n",
       "      <td>315213555</td>\n",
       "      <td>7187.5</td>\n",
       "      <td>297.0</td>\n",
       "      <td>4.0</td>\n",
       "      <td>13.0</td>\n",
       "      <td>34.0</td>\n",
       "      <td>4</td>\n",
       "      <td>4</td>\n",
       "      <td>4</td>\n",
       "      <td>4</td>\n",
       "      <td>708.350000</td>\n",
       "      <td>607.25</td>\n",
       "      <td>1549.0</td>\n",
       "      <td>69.9</td>\n",
       "      <td>4</td>\n",
       "    </tr>\n",
       "  </tbody>\n",
       "</table>\n",
       "</div>"
      ],
      "text/plain": [
       "          0        1      2     3     4     5   6   7   8   9            10  \\\n",
       "0   48100333   8229.2   74.0   7.0   0.0  10.0   4   4   5   4  1362.428571   \n",
       "1  111725039   6871.9  387.0   3.0   0.0   9.0   1   3   3   3   197.500000   \n",
       "2  124649973   7025.7   17.0   2.0   0.0   3.0   1   1   1   1    63.000000   \n",
       "3  127725416  10446.0  372.0  21.0  27.0  30.0   4   7  13  13   248.637143   \n",
       "4  315213555   7187.5  297.0   4.0  13.0  34.0   4   4   4   4   708.350000   \n",
       "\n",
       "       11      12    13  14  \n",
       "0  265.00  7950.0  38.0   4  \n",
       "1  146.00   398.0  48.5   4  \n",
       "2   63.00    68.0  58.0   4  \n",
       "3  158.00  1999.0  36.3   2  \n",
       "4  607.25  1549.0  69.9   4  "
      ]
     },
     "execution_count": 6,
     "metadata": {},
     "output_type": "execute_result"
    }
   ],
   "source": [
    "new_user.head()"
   ]
  },
  {
   "cell_type": "code",
   "execution_count": 8,
   "metadata": {},
   "outputs": [],
   "source": [
    "new_user = new_user.rename(columns={0:\"user_id\",14:\"user_kind\"})"
   ]
  },
  {
   "cell_type": "code",
   "execution_count": 12,
   "metadata": {},
   "outputs": [],
   "source": [
    "new_user = new_user[{\"user_id\",\"user_kind\"}]"
   ]
  },
  {
   "cell_type": "code",
   "execution_count": 13,
   "metadata": {},
   "outputs": [
    {
     "data": {
      "text/html": [
       "<div>\n",
       "<style scoped>\n",
       "    .dataframe tbody tr th:only-of-type {\n",
       "        vertical-align: middle;\n",
       "    }\n",
       "\n",
       "    .dataframe tbody tr th {\n",
       "        vertical-align: top;\n",
       "    }\n",
       "\n",
       "    .dataframe thead th {\n",
       "        text-align: right;\n",
       "    }\n",
       "</style>\n",
       "<table border=\"1\" class=\"dataframe\">\n",
       "  <thead>\n",
       "    <tr style=\"text-align: right;\">\n",
       "      <th></th>\n",
       "      <th>user_id</th>\n",
       "      <th>user_kind</th>\n",
       "    </tr>\n",
       "  </thead>\n",
       "  <tbody>\n",
       "    <tr>\n",
       "      <th>0</th>\n",
       "      <td>48100333</td>\n",
       "      <td>4</td>\n",
       "    </tr>\n",
       "    <tr>\n",
       "      <th>1</th>\n",
       "      <td>111725039</td>\n",
       "      <td>4</td>\n",
       "    </tr>\n",
       "    <tr>\n",
       "      <th>2</th>\n",
       "      <td>124649973</td>\n",
       "      <td>4</td>\n",
       "    </tr>\n",
       "  </tbody>\n",
       "</table>\n",
       "</div>"
      ],
      "text/plain": [
       "     user_id  user_kind\n",
       "0   48100333          4\n",
       "1  111725039          4\n",
       "2  124649973          4"
      ]
     },
     "execution_count": 13,
     "metadata": {},
     "output_type": "execute_result"
    }
   ],
   "source": [
    "new_user.head(3)"
   ]
  },
  {
   "cell_type": "code",
   "execution_count": 69,
   "metadata": {},
   "outputs": [],
   "source": [
    "train  = pd.read_csv(\"new_train.csv\")\n"
   ]
  },
  {
   "cell_type": "code",
   "execution_count": 15,
   "metadata": {},
   "outputs": [
    {
     "data": {
      "text/html": [
       "<div>\n",
       "<style scoped>\n",
       "    .dataframe tbody tr th:only-of-type {\n",
       "        vertical-align: middle;\n",
       "    }\n",
       "\n",
       "    .dataframe tbody tr th {\n",
       "        vertical-align: top;\n",
       "    }\n",
       "\n",
       "    .dataframe thead th {\n",
       "        text-align: right;\n",
       "    }\n",
       "</style>\n",
       "<table border=\"1\" class=\"dataframe\">\n",
       "  <thead>\n",
       "    <tr style=\"text-align: right;\">\n",
       "      <th></th>\n",
       "      <th>item_id</th>\n",
       "      <th>behavior_type</th>\n",
       "      <th>date</th>\n",
       "      <th>user_id</th>\n",
       "    </tr>\n",
       "  </thead>\n",
       "  <tbody>\n",
       "    <tr>\n",
       "      <th>0</th>\n",
       "      <td>698567418</td>\n",
       "      <td>clk</td>\n",
       "      <td>20190610</td>\n",
       "      <td>840057631</td>\n",
       "    </tr>\n",
       "    <tr>\n",
       "      <th>1</th>\n",
       "      <td>1195431834</td>\n",
       "      <td>clk</td>\n",
       "      <td>20190616</td>\n",
       "      <td>840057631</td>\n",
       "    </tr>\n",
       "    <tr>\n",
       "      <th>2</th>\n",
       "      <td>324200109</td>\n",
       "      <td>clk</td>\n",
       "      <td>20190617</td>\n",
       "      <td>840057631</td>\n",
       "    </tr>\n",
       "    <tr>\n",
       "      <th>3</th>\n",
       "      <td>1152236334</td>\n",
       "      <td>clk</td>\n",
       "      <td>20190613</td>\n",
       "      <td>840057631</td>\n",
       "    </tr>\n",
       "  </tbody>\n",
       "</table>\n",
       "</div>"
      ],
      "text/plain": [
       "      item_id behavior_type      date    user_id\n",
       "0   698567418           clk  20190610  840057631\n",
       "1  1195431834           clk  20190616  840057631\n",
       "2   324200109           clk  20190617  840057631\n",
       "3  1152236334           clk  20190613  840057631"
      ]
     },
     "execution_count": 15,
     "metadata": {},
     "output_type": "execute_result"
    }
   ],
   "source": [
    "train.head(4)"
   ]
  },
  {
   "cell_type": "code",
   "execution_count": 16,
   "metadata": {},
   "outputs": [],
   "source": [
    "train = train[{\"item_id\",\"behavior_type\"}]"
   ]
  },
  {
   "cell_type": "code",
   "execution_count": 17,
   "metadata": {},
   "outputs": [
    {
     "data": {
      "text/plain": [
       "(37101158, 2)"
      ]
     },
     "execution_count": 17,
     "metadata": {},
     "output_type": "execute_result"
    }
   ],
   "source": [
    "train.shape"
   ]
  },
  {
   "cell_type": "code",
   "execution_count": 30,
   "metadata": {},
   "outputs": [],
   "source": [
    "item = pd.read_csv(\"items.csv\")"
   ]
  },
  {
   "cell_type": "code",
   "execution_count": 19,
   "metadata": {},
   "outputs": [
    {
     "data": {
      "text/html": [
       "<div>\n",
       "<style scoped>\n",
       "    .dataframe tbody tr th:only-of-type {\n",
       "        vertical-align: middle;\n",
       "    }\n",
       "\n",
       "    .dataframe tbody tr th {\n",
       "        vertical-align: top;\n",
       "    }\n",
       "\n",
       "    .dataframe thead th {\n",
       "        text-align: right;\n",
       "    }\n",
       "</style>\n",
       "<table border=\"1\" class=\"dataframe\">\n",
       "  <thead>\n",
       "    <tr style=\"text-align: right;\">\n",
       "      <th></th>\n",
       "      <th>item_id</th>\n",
       "      <th>class1_id</th>\n",
       "      <th>class_id</th>\n",
       "      <th>brand_id</th>\n",
       "      <th>price</th>\n",
       "    </tr>\n",
       "  </thead>\n",
       "  <tbody>\n",
       "    <tr>\n",
       "      <th>0</th>\n",
       "      <td>43152</td>\n",
       "      <td>50022703</td>\n",
       "      <td>50003881</td>\n",
       "      <td>30652</td>\n",
       "      <td>1749.00</td>\n",
       "    </tr>\n",
       "    <tr>\n",
       "      <th>1</th>\n",
       "      <td>133107</td>\n",
       "      <td>11</td>\n",
       "      <td>110502</td>\n",
       "      <td>26683</td>\n",
       "      <td>189.98</td>\n",
       "    </tr>\n",
       "    <tr>\n",
       "      <th>2</th>\n",
       "      <td>138801</td>\n",
       "      <td>50010788</td>\n",
       "      <td>50010815</td>\n",
       "      <td>20067</td>\n",
       "      <td>538.50</td>\n",
       "    </tr>\n",
       "    <tr>\n",
       "      <th>3</th>\n",
       "      <td>140174</td>\n",
       "      <td>50010788</td>\n",
       "      <td>50010815</td>\n",
       "      <td>20112</td>\n",
       "      <td>814.00</td>\n",
       "    </tr>\n",
       "  </tbody>\n",
       "</table>\n",
       "</div>"
      ],
      "text/plain": [
       "   item_id  class1_id  class_id  brand_id    price\n",
       "0    43152   50022703  50003881     30652  1749.00\n",
       "1   133107         11    110502     26683   189.98\n",
       "2   138801   50010788  50010815     20067   538.50\n",
       "3   140174   50010788  50010815     20112   814.00"
      ]
     },
     "execution_count": 19,
     "metadata": {},
     "output_type": "execute_result"
    }
   ],
   "source": [
    "item.head(4)"
   ]
  },
  {
   "cell_type": "code",
   "execution_count": 20,
   "metadata": {},
   "outputs": [],
   "source": [
    "m = [0,75,150,300,400,1000,5000,100000,5000000]\n",
    "item[\"price\"] =pd.cut(item.price,m,labels=[1,2,3,4,5,6,7,8])"
   ]
  },
  {
   "cell_type": "code",
   "execution_count": 21,
   "metadata": {},
   "outputs": [
    {
     "data": {
      "text/plain": [
       "(10786748, 5)"
      ]
     },
     "execution_count": 21,
     "metadata": {},
     "output_type": "execute_result"
    }
   ],
   "source": [
    "item.shape"
   ]
  },
  {
   "cell_type": "code",
   "execution_count": 22,
   "metadata": {},
   "outputs": [
    {
     "data": {
      "text/html": [
       "<div>\n",
       "<style scoped>\n",
       "    .dataframe tbody tr th:only-of-type {\n",
       "        vertical-align: middle;\n",
       "    }\n",
       "\n",
       "    .dataframe tbody tr th {\n",
       "        vertical-align: top;\n",
       "    }\n",
       "\n",
       "    .dataframe thead th {\n",
       "        text-align: right;\n",
       "    }\n",
       "</style>\n",
       "<table border=\"1\" class=\"dataframe\">\n",
       "  <thead>\n",
       "    <tr style=\"text-align: right;\">\n",
       "      <th></th>\n",
       "      <th>item_id</th>\n",
       "      <th>class1_id</th>\n",
       "      <th>class_id</th>\n",
       "      <th>brand_id</th>\n",
       "      <th>price</th>\n",
       "    </tr>\n",
       "  </thead>\n",
       "  <tbody>\n",
       "    <tr>\n",
       "      <th>0</th>\n",
       "      <td>43152</td>\n",
       "      <td>50022703</td>\n",
       "      <td>50003881</td>\n",
       "      <td>30652</td>\n",
       "      <td>6</td>\n",
       "    </tr>\n",
       "    <tr>\n",
       "      <th>1</th>\n",
       "      <td>133107</td>\n",
       "      <td>11</td>\n",
       "      <td>110502</td>\n",
       "      <td>26683</td>\n",
       "      <td>3</td>\n",
       "    </tr>\n",
       "    <tr>\n",
       "      <th>2</th>\n",
       "      <td>138801</td>\n",
       "      <td>50010788</td>\n",
       "      <td>50010815</td>\n",
       "      <td>20067</td>\n",
       "      <td>5</td>\n",
       "    </tr>\n",
       "    <tr>\n",
       "      <th>3</th>\n",
       "      <td>140174</td>\n",
       "      <td>50010788</td>\n",
       "      <td>50010815</td>\n",
       "      <td>20112</td>\n",
       "      <td>5</td>\n",
       "    </tr>\n",
       "  </tbody>\n",
       "</table>\n",
       "</div>"
      ],
      "text/plain": [
       "   item_id  class1_id  class_id  brand_id price\n",
       "0    43152   50022703  50003881     30652     6\n",
       "1   133107         11    110502     26683     3\n",
       "2   138801   50010788  50010815     20067     5\n",
       "3   140174   50010788  50010815     20112     5"
      ]
     },
     "execution_count": 22,
     "metadata": {},
     "output_type": "execute_result"
    }
   ],
   "source": [
    "item.head(4)"
   ]
  },
  {
   "cell_type": "code",
   "execution_count": 23,
   "metadata": {},
   "outputs": [],
   "source": [
    "item = item[{\"item_id\",\"class1_id\",\"brand_id\",\"price\"}]"
   ]
  },
  {
   "cell_type": "code",
   "execution_count": 24,
   "metadata": {},
   "outputs": [],
   "source": [
    "train = pd.merge(train,item, on=[\"item_id\"])"
   ]
  },
  {
   "cell_type": "code",
   "execution_count": 25,
   "metadata": {},
   "outputs": [
    {
     "data": {
      "text/plain": [
       "(37101158, 5)"
      ]
     },
     "execution_count": 25,
     "metadata": {},
     "output_type": "execute_result"
    }
   ],
   "source": [
    "train.shape"
   ]
  },
  {
   "cell_type": "code",
   "execution_count": 26,
   "metadata": {},
   "outputs": [
    {
     "data": {
      "text/plain": [
       "item_id            0\n",
       "behavior_type      0\n",
       "price            106\n",
       "brand_id           0\n",
       "class1_id          0\n",
       "dtype: int64"
      ]
     },
     "execution_count": 26,
     "metadata": {},
     "output_type": "execute_result"
    }
   ],
   "source": [
    "train.isnull().sum()"
   ]
  },
  {
   "cell_type": "code",
   "execution_count": 28,
   "metadata": {},
   "outputs": [
    {
     "data": {
      "text/plain": [
       "price        134\n",
       "brand_id       0\n",
       "item_id        0\n",
       "class1_id      0\n",
       "dtype: int64"
      ]
     },
     "execution_count": 28,
     "metadata": {},
     "output_type": "execute_result"
    }
   ],
   "source": [
    "item.isnull().sum()"
   ]
  },
  {
   "cell_type": "code",
   "execution_count": 29,
   "metadata": {},
   "outputs": [
    {
     "data": {
      "text/html": [
       "<div>\n",
       "<style scoped>\n",
       "    .dataframe tbody tr th:only-of-type {\n",
       "        vertical-align: middle;\n",
       "    }\n",
       "\n",
       "    .dataframe tbody tr th {\n",
       "        vertical-align: top;\n",
       "    }\n",
       "\n",
       "    .dataframe thead th {\n",
       "        text-align: right;\n",
       "    }\n",
       "</style>\n",
       "<table border=\"1\" class=\"dataframe\">\n",
       "  <thead>\n",
       "    <tr style=\"text-align: right;\">\n",
       "      <th></th>\n",
       "      <th>price</th>\n",
       "      <th>brand_id</th>\n",
       "      <th>item_id</th>\n",
       "      <th>class1_id</th>\n",
       "    </tr>\n",
       "  </thead>\n",
       "  <tbody>\n",
       "    <tr>\n",
       "      <th>228947</th>\n",
       "      <td>NaN</td>\n",
       "      <td>339926570</td>\n",
       "      <td>1227475326</td>\n",
       "      <td>122952001</td>\n",
       "    </tr>\n",
       "    <tr>\n",
       "      <th>357587</th>\n",
       "      <td>NaN</td>\n",
       "      <td>1737563489</td>\n",
       "      <td>1238685550</td>\n",
       "      <td>50011397</td>\n",
       "    </tr>\n",
       "    <tr>\n",
       "      <th>358617</th>\n",
       "      <td>NaN</td>\n",
       "      <td>78825530</td>\n",
       "      <td>274841888</td>\n",
       "      <td>50011397</td>\n",
       "    </tr>\n",
       "    <tr>\n",
       "      <th>431193</th>\n",
       "      <td>NaN</td>\n",
       "      <td>62334316</td>\n",
       "      <td>1202862202</td>\n",
       "      <td>50011397</td>\n",
       "    </tr>\n",
       "    <tr>\n",
       "      <th>468103</th>\n",
       "      <td>NaN</td>\n",
       "      <td>659534088</td>\n",
       "      <td>1124860060</td>\n",
       "      <td>50020857</td>\n",
       "    </tr>\n",
       "    <tr>\n",
       "      <th>487197</th>\n",
       "      <td>NaN</td>\n",
       "      <td>40355662</td>\n",
       "      <td>1236438001</td>\n",
       "      <td>50011397</td>\n",
       "    </tr>\n",
       "    <tr>\n",
       "      <th>489625</th>\n",
       "      <td>NaN</td>\n",
       "      <td>20801</td>\n",
       "      <td>1247023608</td>\n",
       "      <td>50011972</td>\n",
       "    </tr>\n",
       "    <tr>\n",
       "      <th>538297</th>\n",
       "      <td>NaN</td>\n",
       "      <td>339926570</td>\n",
       "      <td>1223636672</td>\n",
       "      <td>122952001</td>\n",
       "    </tr>\n",
       "    <tr>\n",
       "      <th>635794</th>\n",
       "      <td>NaN</td>\n",
       "      <td>2781867967</td>\n",
       "      <td>1227026808</td>\n",
       "      <td>50011397</td>\n",
       "    </tr>\n",
       "    <tr>\n",
       "      <th>670454</th>\n",
       "      <td>NaN</td>\n",
       "      <td>2331435403</td>\n",
       "      <td>1136204007</td>\n",
       "      <td>50020808</td>\n",
       "    </tr>\n",
       "    <tr>\n",
       "      <th>710388</th>\n",
       "      <td>NaN</td>\n",
       "      <td>301658478</td>\n",
       "      <td>898099331</td>\n",
       "      <td>50011397</td>\n",
       "    </tr>\n",
       "    <tr>\n",
       "      <th>760541</th>\n",
       "      <td>NaN</td>\n",
       "      <td>78825530</td>\n",
       "      <td>274825664</td>\n",
       "      <td>50011397</td>\n",
       "    </tr>\n",
       "    <tr>\n",
       "      <th>792654</th>\n",
       "      <td>NaN</td>\n",
       "      <td>2331435403</td>\n",
       "      <td>1245166723</td>\n",
       "      <td>50020808</td>\n",
       "    </tr>\n",
       "    <tr>\n",
       "      <th>819482</th>\n",
       "      <td>NaN</td>\n",
       "      <td>133402719</td>\n",
       "      <td>719547202</td>\n",
       "      <td>50011397</td>\n",
       "    </tr>\n",
       "    <tr>\n",
       "      <th>946744</th>\n",
       "      <td>NaN</td>\n",
       "      <td>4538915</td>\n",
       "      <td>609382951</td>\n",
       "      <td>50013886</td>\n",
       "    </tr>\n",
       "    <tr>\n",
       "      <th>947907</th>\n",
       "      <td>NaN</td>\n",
       "      <td>1588771844</td>\n",
       "      <td>715160422</td>\n",
       "      <td>50011397</td>\n",
       "    </tr>\n",
       "    <tr>\n",
       "      <th>966973</th>\n",
       "      <td>NaN</td>\n",
       "      <td>339926570</td>\n",
       "      <td>1224092101</td>\n",
       "      <td>122952001</td>\n",
       "    </tr>\n",
       "    <tr>\n",
       "      <th>1014181</th>\n",
       "      <td>NaN</td>\n",
       "      <td>8018724</td>\n",
       "      <td>1005858290</td>\n",
       "      <td>50020808</td>\n",
       "    </tr>\n",
       "    <tr>\n",
       "      <th>1119911</th>\n",
       "      <td>NaN</td>\n",
       "      <td>1862918014</td>\n",
       "      <td>989164250</td>\n",
       "      <td>50011397</td>\n",
       "    </tr>\n",
       "    <tr>\n",
       "      <th>1135521</th>\n",
       "      <td>NaN</td>\n",
       "      <td>105803</td>\n",
       "      <td>1116176057</td>\n",
       "      <td>50018004</td>\n",
       "    </tr>\n",
       "    <tr>\n",
       "      <th>1250135</th>\n",
       "      <td>NaN</td>\n",
       "      <td>20748329</td>\n",
       "      <td>1159341743</td>\n",
       "      <td>50011397</td>\n",
       "    </tr>\n",
       "    <tr>\n",
       "      <th>1257048</th>\n",
       "      <td>NaN</td>\n",
       "      <td>16614361</td>\n",
       "      <td>1247095175</td>\n",
       "      <td>50007216</td>\n",
       "    </tr>\n",
       "    <tr>\n",
       "      <th>1257951</th>\n",
       "      <td>NaN</td>\n",
       "      <td>78825530</td>\n",
       "      <td>274765933</td>\n",
       "      <td>50011397</td>\n",
       "    </tr>\n",
       "    <tr>\n",
       "      <th>1393897</th>\n",
       "      <td>NaN</td>\n",
       "      <td>4538915</td>\n",
       "      <td>611842332</td>\n",
       "      <td>50013886</td>\n",
       "    </tr>\n",
       "    <tr>\n",
       "      <th>1503449</th>\n",
       "      <td>NaN</td>\n",
       "      <td>1217032605</td>\n",
       "      <td>1008346385</td>\n",
       "      <td>50008164</td>\n",
       "    </tr>\n",
       "    <tr>\n",
       "      <th>1610729</th>\n",
       "      <td>NaN</td>\n",
       "      <td>75975020</td>\n",
       "      <td>1114341700</td>\n",
       "      <td>50008164</td>\n",
       "    </tr>\n",
       "    <tr>\n",
       "      <th>1619411</th>\n",
       "      <td>NaN</td>\n",
       "      <td>3790546</td>\n",
       "      <td>856109011</td>\n",
       "      <td>50011397</td>\n",
       "    </tr>\n",
       "    <tr>\n",
       "      <th>1773703</th>\n",
       "      <td>NaN</td>\n",
       "      <td>62334316</td>\n",
       "      <td>1202122959</td>\n",
       "      <td>50011397</td>\n",
       "    </tr>\n",
       "    <tr>\n",
       "      <th>1937691</th>\n",
       "      <td>NaN</td>\n",
       "      <td>412548289</td>\n",
       "      <td>1237078621</td>\n",
       "      <td>50013864</td>\n",
       "    </tr>\n",
       "    <tr>\n",
       "      <th>1970123</th>\n",
       "      <td>NaN</td>\n",
       "      <td>2331435403</td>\n",
       "      <td>1071838893</td>\n",
       "      <td>50020808</td>\n",
       "    </tr>\n",
       "    <tr>\n",
       "      <th>...</th>\n",
       "      <td>...</td>\n",
       "      <td>...</td>\n",
       "      <td>...</td>\n",
       "      <td>...</td>\n",
       "    </tr>\n",
       "    <tr>\n",
       "      <th>8553165</th>\n",
       "      <td>NaN</td>\n",
       "      <td>2331435403</td>\n",
       "      <td>1072378119</td>\n",
       "      <td>50020808</td>\n",
       "    </tr>\n",
       "    <tr>\n",
       "      <th>8829539</th>\n",
       "      <td>NaN</td>\n",
       "      <td>339926570</td>\n",
       "      <td>1226743068</td>\n",
       "      <td>122952001</td>\n",
       "    </tr>\n",
       "    <tr>\n",
       "      <th>8969830</th>\n",
       "      <td>NaN</td>\n",
       "      <td>157557596</td>\n",
       "      <td>977669867</td>\n",
       "      <td>50011397</td>\n",
       "    </tr>\n",
       "    <tr>\n",
       "      <th>9251268</th>\n",
       "      <td>NaN</td>\n",
       "      <td>287106456</td>\n",
       "      <td>1120677488</td>\n",
       "      <td>16</td>\n",
       "    </tr>\n",
       "    <tr>\n",
       "      <th>9361017</th>\n",
       "      <td>NaN</td>\n",
       "      <td>2454708638</td>\n",
       "      <td>1235652917</td>\n",
       "      <td>50016349</td>\n",
       "    </tr>\n",
       "    <tr>\n",
       "      <th>9377021</th>\n",
       "      <td>NaN</td>\n",
       "      <td>339926570</td>\n",
       "      <td>1223608772</td>\n",
       "      <td>122952001</td>\n",
       "    </tr>\n",
       "    <tr>\n",
       "      <th>9454889</th>\n",
       "      <td>NaN</td>\n",
       "      <td>4320447</td>\n",
       "      <td>1211102308</td>\n",
       "      <td>50011397</td>\n",
       "    </tr>\n",
       "    <tr>\n",
       "      <th>9466380</th>\n",
       "      <td>NaN</td>\n",
       "      <td>4538171</td>\n",
       "      <td>707182353</td>\n",
       "      <td>50013886</td>\n",
       "    </tr>\n",
       "    <tr>\n",
       "      <th>9551452</th>\n",
       "      <td>NaN</td>\n",
       "      <td>3469518</td>\n",
       "      <td>1044439882</td>\n",
       "      <td>50011397</td>\n",
       "    </tr>\n",
       "    <tr>\n",
       "      <th>9587399</th>\n",
       "      <td>NaN</td>\n",
       "      <td>3790546</td>\n",
       "      <td>1141187038</td>\n",
       "      <td>50011397</td>\n",
       "    </tr>\n",
       "    <tr>\n",
       "      <th>9691818</th>\n",
       "      <td>NaN</td>\n",
       "      <td>582220134</td>\n",
       "      <td>1107275507</td>\n",
       "      <td>50013864</td>\n",
       "    </tr>\n",
       "    <tr>\n",
       "      <th>9697475</th>\n",
       "      <td>NaN</td>\n",
       "      <td>2431007432</td>\n",
       "      <td>1105528100</td>\n",
       "      <td>122952001</td>\n",
       "    </tr>\n",
       "    <tr>\n",
       "      <th>9709006</th>\n",
       "      <td>NaN</td>\n",
       "      <td>659510089</td>\n",
       "      <td>894404896</td>\n",
       "      <td>122952001</td>\n",
       "    </tr>\n",
       "    <tr>\n",
       "      <th>9719642</th>\n",
       "      <td>NaN</td>\n",
       "      <td>20748329</td>\n",
       "      <td>1136609251</td>\n",
       "      <td>50011397</td>\n",
       "    </tr>\n",
       "    <tr>\n",
       "      <th>9741111</th>\n",
       "      <td>NaN</td>\n",
       "      <td>659534088</td>\n",
       "      <td>965853033</td>\n",
       "      <td>50020857</td>\n",
       "    </tr>\n",
       "    <tr>\n",
       "      <th>9792552</th>\n",
       "      <td>NaN</td>\n",
       "      <td>2331435403</td>\n",
       "      <td>1231188702</td>\n",
       "      <td>50020808</td>\n",
       "    </tr>\n",
       "    <tr>\n",
       "      <th>9863613</th>\n",
       "      <td>NaN</td>\n",
       "      <td>189386640</td>\n",
       "      <td>1203885001</td>\n",
       "      <td>50011397</td>\n",
       "    </tr>\n",
       "    <tr>\n",
       "      <th>9880271</th>\n",
       "      <td>NaN</td>\n",
       "      <td>59957</td>\n",
       "      <td>459149400</td>\n",
       "      <td>50011397</td>\n",
       "    </tr>\n",
       "    <tr>\n",
       "      <th>9925058</th>\n",
       "      <td>NaN</td>\n",
       "      <td>40355662</td>\n",
       "      <td>1241127629</td>\n",
       "      <td>50011397</td>\n",
       "    </tr>\n",
       "    <tr>\n",
       "      <th>10001639</th>\n",
       "      <td>NaN</td>\n",
       "      <td>87173953</td>\n",
       "      <td>297763993</td>\n",
       "      <td>122852001</td>\n",
       "    </tr>\n",
       "    <tr>\n",
       "      <th>10226516</th>\n",
       "      <td>NaN</td>\n",
       "      <td>671680414</td>\n",
       "      <td>1131852280</td>\n",
       "      <td>50011397</td>\n",
       "    </tr>\n",
       "    <tr>\n",
       "      <th>10271142</th>\n",
       "      <td>NaN</td>\n",
       "      <td>1375845094</td>\n",
       "      <td>1018870253</td>\n",
       "      <td>1625</td>\n",
       "    </tr>\n",
       "    <tr>\n",
       "      <th>10283010</th>\n",
       "      <td>NaN</td>\n",
       "      <td>1629760633</td>\n",
       "      <td>1010849031</td>\n",
       "      <td>50011397</td>\n",
       "    </tr>\n",
       "    <tr>\n",
       "      <th>10293985</th>\n",
       "      <td>NaN</td>\n",
       "      <td>40355662</td>\n",
       "      <td>1179437743</td>\n",
       "      <td>50011397</td>\n",
       "    </tr>\n",
       "    <tr>\n",
       "      <th>10299744</th>\n",
       "      <td>NaN</td>\n",
       "      <td>721700924</td>\n",
       "      <td>1213727181</td>\n",
       "      <td>50011397</td>\n",
       "    </tr>\n",
       "    <tr>\n",
       "      <th>10438711</th>\n",
       "      <td>NaN</td>\n",
       "      <td>78825530</td>\n",
       "      <td>275284715</td>\n",
       "      <td>50011397</td>\n",
       "    </tr>\n",
       "    <tr>\n",
       "      <th>10461616</th>\n",
       "      <td>NaN</td>\n",
       "      <td>40355662</td>\n",
       "      <td>1212166277</td>\n",
       "      <td>50011397</td>\n",
       "    </tr>\n",
       "    <tr>\n",
       "      <th>10504880</th>\n",
       "      <td>NaN</td>\n",
       "      <td>26253820</td>\n",
       "      <td>1136815115</td>\n",
       "      <td>50013864</td>\n",
       "    </tr>\n",
       "    <tr>\n",
       "      <th>10737697</th>\n",
       "      <td>NaN</td>\n",
       "      <td>3845354</td>\n",
       "      <td>1148003452</td>\n",
       "      <td>50011397</td>\n",
       "    </tr>\n",
       "    <tr>\n",
       "      <th>10745324</th>\n",
       "      <td>NaN</td>\n",
       "      <td>1884680080</td>\n",
       "      <td>1251032698</td>\n",
       "      <td>50011397</td>\n",
       "    </tr>\n",
       "  </tbody>\n",
       "</table>\n",
       "<p>134 rows × 4 columns</p>\n",
       "</div>"
      ],
      "text/plain": [
       "         price    brand_id     item_id  class1_id\n",
       "228947     NaN   339926570  1227475326  122952001\n",
       "357587     NaN  1737563489  1238685550   50011397\n",
       "358617     NaN    78825530   274841888   50011397\n",
       "431193     NaN    62334316  1202862202   50011397\n",
       "468103     NaN   659534088  1124860060   50020857\n",
       "487197     NaN    40355662  1236438001   50011397\n",
       "489625     NaN       20801  1247023608   50011972\n",
       "538297     NaN   339926570  1223636672  122952001\n",
       "635794     NaN  2781867967  1227026808   50011397\n",
       "670454     NaN  2331435403  1136204007   50020808\n",
       "710388     NaN   301658478   898099331   50011397\n",
       "760541     NaN    78825530   274825664   50011397\n",
       "792654     NaN  2331435403  1245166723   50020808\n",
       "819482     NaN   133402719   719547202   50011397\n",
       "946744     NaN     4538915   609382951   50013886\n",
       "947907     NaN  1588771844   715160422   50011397\n",
       "966973     NaN   339926570  1224092101  122952001\n",
       "1014181    NaN     8018724  1005858290   50020808\n",
       "1119911    NaN  1862918014   989164250   50011397\n",
       "1135521    NaN      105803  1116176057   50018004\n",
       "1250135    NaN    20748329  1159341743   50011397\n",
       "1257048    NaN    16614361  1247095175   50007216\n",
       "1257951    NaN    78825530   274765933   50011397\n",
       "1393897    NaN     4538915   611842332   50013886\n",
       "1503449    NaN  1217032605  1008346385   50008164\n",
       "1610729    NaN    75975020  1114341700   50008164\n",
       "1619411    NaN     3790546   856109011   50011397\n",
       "1773703    NaN    62334316  1202122959   50011397\n",
       "1937691    NaN   412548289  1237078621   50013864\n",
       "1970123    NaN  2331435403  1071838893   50020808\n",
       "...        ...         ...         ...        ...\n",
       "8553165    NaN  2331435403  1072378119   50020808\n",
       "8829539    NaN   339926570  1226743068  122952001\n",
       "8969830    NaN   157557596   977669867   50011397\n",
       "9251268    NaN   287106456  1120677488         16\n",
       "9361017    NaN  2454708638  1235652917   50016349\n",
       "9377021    NaN   339926570  1223608772  122952001\n",
       "9454889    NaN     4320447  1211102308   50011397\n",
       "9466380    NaN     4538171   707182353   50013886\n",
       "9551452    NaN     3469518  1044439882   50011397\n",
       "9587399    NaN     3790546  1141187038   50011397\n",
       "9691818    NaN   582220134  1107275507   50013864\n",
       "9697475    NaN  2431007432  1105528100  122952001\n",
       "9709006    NaN   659510089   894404896  122952001\n",
       "9719642    NaN    20748329  1136609251   50011397\n",
       "9741111    NaN   659534088   965853033   50020857\n",
       "9792552    NaN  2331435403  1231188702   50020808\n",
       "9863613    NaN   189386640  1203885001   50011397\n",
       "9880271    NaN       59957   459149400   50011397\n",
       "9925058    NaN    40355662  1241127629   50011397\n",
       "10001639   NaN    87173953   297763993  122852001\n",
       "10226516   NaN   671680414  1131852280   50011397\n",
       "10271142   NaN  1375845094  1018870253       1625\n",
       "10283010   NaN  1629760633  1010849031   50011397\n",
       "10293985   NaN    40355662  1179437743   50011397\n",
       "10299744   NaN   721700924  1213727181   50011397\n",
       "10438711   NaN    78825530   275284715   50011397\n",
       "10461616   NaN    40355662  1212166277   50011397\n",
       "10504880   NaN    26253820  1136815115   50013864\n",
       "10737697   NaN     3845354  1148003452   50011397\n",
       "10745324   NaN  1884680080  1251032698   50011397\n",
       "\n",
       "[134 rows x 4 columns]"
      ]
     },
     "execution_count": 29,
     "metadata": {},
     "output_type": "execute_result"
    }
   ],
   "source": [
    "item[item[\"price\"].isnull()]"
   ]
  },
  {
   "cell_type": "code",
   "execution_count": 31,
   "metadata": {},
   "outputs": [
    {
     "data": {
      "text/plain": [
       "item_id      1.251033e+09\n",
       "class1_id    5.001140e+07\n",
       "class_id     1.213840e+08\n",
       "brand_id     1.884680e+09\n",
       "price        8.888889e+07\n",
       "Name: 10745324, dtype: float64"
      ]
     },
     "execution_count": 31,
     "metadata": {},
     "output_type": "execute_result"
    }
   ],
   "source": [
    "item.iloc[10745324]"
   ]
  },
  {
   "cell_type": "code",
   "execution_count": 33,
   "metadata": {},
   "outputs": [
    {
     "data": {
      "text/plain": [
       "item_id      1.018870e+09\n",
       "class1_id    1.625000e+03\n",
       "class_id     5.001277e+07\n",
       "brand_id     1.375845e+09\n",
       "price        9.999999e+06\n",
       "Name: 10271142, dtype: float64"
      ]
     },
     "execution_count": 33,
     "metadata": {},
     "output_type": "execute_result"
    }
   ],
   "source": [
    "item.iloc[10271142]"
   ]
  },
  {
   "cell_type": "code",
   "execution_count": 35,
   "metadata": {},
   "outputs": [
    {
     "data": {
      "text/plain": [
       "[4, 2, 3, 6, 5, 1, 7, 8, NaN]\n",
       "Categories (8, int64): [1 < 2 < 3 < 4 < 5 < 6 < 7 < 8]"
      ]
     },
     "execution_count": 35,
     "metadata": {},
     "output_type": "execute_result"
    }
   ],
   "source": [
    "train[\"price\"].unique()"
   ]
  },
  {
   "cell_type": "code",
   "execution_count": 62,
   "metadata": {},
   "outputs": [],
   "source": [
    "\n",
    "#train[\"price\"] = train[\"price\"].cat.add_categories(['9'])\n",
    "train[\"price\"].fillna(\"9\",inplace=True)"
   ]
  },
  {
   "cell_type": "code",
   "execution_count": 43,
   "metadata": {},
   "outputs": [
    {
     "data": {
      "text/html": [
       "<div>\n",
       "<style scoped>\n",
       "    .dataframe tbody tr th:only-of-type {\n",
       "        vertical-align: middle;\n",
       "    }\n",
       "\n",
       "    .dataframe tbody tr th {\n",
       "        vertical-align: top;\n",
       "    }\n",
       "\n",
       "    .dataframe thead th {\n",
       "        text-align: right;\n",
       "    }\n",
       "</style>\n",
       "<table border=\"1\" class=\"dataframe\">\n",
       "  <thead>\n",
       "    <tr style=\"text-align: right;\">\n",
       "      <th></th>\n",
       "      <th>item_id</th>\n",
       "      <th>behavior_type</th>\n",
       "      <th>price</th>\n",
       "      <th>brand_id</th>\n",
       "      <th>class1_id</th>\n",
       "    </tr>\n",
       "  </thead>\n",
       "  <tbody>\n",
       "    <tr>\n",
       "      <th>0</th>\n",
       "      <td>698567418</td>\n",
       "      <td>clk</td>\n",
       "      <td>4</td>\n",
       "      <td>140861730</td>\n",
       "      <td>1801</td>\n",
       "    </tr>\n",
       "    <tr>\n",
       "      <th>1</th>\n",
       "      <td>698567418</td>\n",
       "      <td>clk</td>\n",
       "      <td>4</td>\n",
       "      <td>140861730</td>\n",
       "      <td>1801</td>\n",
       "    </tr>\n",
       "    <tr>\n",
       "      <th>2</th>\n",
       "      <td>698567418</td>\n",
       "      <td>clk</td>\n",
       "      <td>4</td>\n",
       "      <td>140861730</td>\n",
       "      <td>1801</td>\n",
       "    </tr>\n",
       "  </tbody>\n",
       "</table>\n",
       "</div>"
      ],
      "text/plain": [
       "     item_id behavior_type price   brand_id  class1_id\n",
       "0  698567418           clk     4  140861730       1801\n",
       "1  698567418           clk     4  140861730       1801\n",
       "2  698567418           clk     4  140861730       1801"
      ]
     },
     "execution_count": 43,
     "metadata": {},
     "output_type": "execute_result"
    }
   ],
   "source": [
    "train.head(3)"
   ]
  },
  {
   "cell_type": "code",
   "execution_count": 63,
   "metadata": {},
   "outputs": [
    {
     "data": {
      "text/plain": [
       "[4, 2, 3, 6, 5, 1, 7, 8, 9]\n",
       "Categories (9, object): [1 < 2 < 3 < 4 ... 6 < 7 < 8 < 9]"
      ]
     },
     "execution_count": 63,
     "metadata": {},
     "output_type": "execute_result"
    }
   ],
   "source": [
    "train[\"price\"].unique()"
   ]
  },
  {
   "cell_type": "code",
   "execution_count": 64,
   "metadata": {},
   "outputs": [
    {
     "data": {
      "text/plain": [
       "pandas.core.series.Series"
      ]
     },
     "execution_count": 64,
     "metadata": {},
     "output_type": "execute_result"
    }
   ],
   "source": [
    "type(train[\"price\"])"
   ]
  },
  {
   "cell_type": "code",
   "execution_count": 65,
   "metadata": {},
   "outputs": [
    {
     "name": "stdout",
     "output_type": "stream",
     "text": [
      "<class 'pandas.core.frame.DataFrame'>\n",
      "Int64Index: 37101158 entries, 0 to 37101157\n",
      "Data columns (total 5 columns):\n",
      "item_id          int64\n",
      "behavior_type    object\n",
      "price            category\n",
      "brand_id         int64\n",
      "class1_id        int64\n",
      "dtypes: category(1), int64(3), object(1)\n",
      "memory usage: 1.4+ GB\n"
     ]
    }
   ],
   "source": [
    "train.info()"
   ]
  },
  {
   "cell_type": "code",
   "execution_count": 66,
   "metadata": {},
   "outputs": [
    {
     "data": {
      "text/plain": [
       "(37101158, 5)"
      ]
     },
     "execution_count": 66,
     "metadata": {},
     "output_type": "execute_result"
    }
   ],
   "source": [
    "train.shape"
   ]
  },
  {
   "cell_type": "code",
   "execution_count": 67,
   "metadata": {},
   "outputs": [
    {
     "data": {
      "text/html": [
       "<div>\n",
       "<style scoped>\n",
       "    .dataframe tbody tr th:only-of-type {\n",
       "        vertical-align: middle;\n",
       "    }\n",
       "\n",
       "    .dataframe tbody tr th {\n",
       "        vertical-align: top;\n",
       "    }\n",
       "\n",
       "    .dataframe thead th {\n",
       "        text-align: right;\n",
       "    }\n",
       "</style>\n",
       "<table border=\"1\" class=\"dataframe\">\n",
       "  <thead>\n",
       "    <tr style=\"text-align: right;\">\n",
       "      <th></th>\n",
       "      <th>item_id</th>\n",
       "      <th>behavior_type</th>\n",
       "      <th>price</th>\n",
       "      <th>brand_id</th>\n",
       "      <th>class1_id</th>\n",
       "    </tr>\n",
       "  </thead>\n",
       "  <tbody>\n",
       "    <tr>\n",
       "      <th>0</th>\n",
       "      <td>698567418</td>\n",
       "      <td>clk</td>\n",
       "      <td>4</td>\n",
       "      <td>140861730</td>\n",
       "      <td>1801</td>\n",
       "    </tr>\n",
       "    <tr>\n",
       "      <th>1</th>\n",
       "      <td>698567418</td>\n",
       "      <td>clk</td>\n",
       "      <td>4</td>\n",
       "      <td>140861730</td>\n",
       "      <td>1801</td>\n",
       "    </tr>\n",
       "    <tr>\n",
       "      <th>2</th>\n",
       "      <td>698567418</td>\n",
       "      <td>clk</td>\n",
       "      <td>4</td>\n",
       "      <td>140861730</td>\n",
       "      <td>1801</td>\n",
       "    </tr>\n",
       "    <tr>\n",
       "      <th>3</th>\n",
       "      <td>698567418</td>\n",
       "      <td>clk</td>\n",
       "      <td>4</td>\n",
       "      <td>140861730</td>\n",
       "      <td>1801</td>\n",
       "    </tr>\n",
       "  </tbody>\n",
       "</table>\n",
       "</div>"
      ],
      "text/plain": [
       "     item_id behavior_type price   brand_id  class1_id\n",
       "0  698567418           clk     4  140861730       1801\n",
       "1  698567418           clk     4  140861730       1801\n",
       "2  698567418           clk     4  140861730       1801\n",
       "3  698567418           clk     4  140861730       1801"
      ]
     },
     "execution_count": 67,
     "metadata": {},
     "output_type": "execute_result"
    }
   ],
   "source": [
    "train.head(4)"
   ]
  },
  {
   "cell_type": "markdown",
   "metadata": {},
   "source": [
    "### 完成2_5_behavior表的存储"
   ]
  },
  {
   "cell_type": "code",
   "execution_count": 68,
   "metadata": {},
   "outputs": [],
   "source": [
    "train.to_csv(\"2_5_behavior.csv\",index = False)"
   ]
  },
  {
   "cell_type": "code",
   "execution_count": 2,
   "metadata": {},
   "outputs": [],
   "source": [
    "train = pd.read_csv(\"new_train.csv\")"
   ]
  },
  {
   "cell_type": "code",
   "execution_count": 3,
   "metadata": {},
   "outputs": [
    {
     "data": {
      "text/html": [
       "<div>\n",
       "<style scoped>\n",
       "    .dataframe tbody tr th:only-of-type {\n",
       "        vertical-align: middle;\n",
       "    }\n",
       "\n",
       "    .dataframe tbody tr th {\n",
       "        vertical-align: top;\n",
       "    }\n",
       "\n",
       "    .dataframe thead th {\n",
       "        text-align: right;\n",
       "    }\n",
       "</style>\n",
       "<table border=\"1\" class=\"dataframe\">\n",
       "  <thead>\n",
       "    <tr style=\"text-align: right;\">\n",
       "      <th></th>\n",
       "      <th>item_id</th>\n",
       "      <th>behavior_type</th>\n",
       "      <th>date</th>\n",
       "      <th>user_id</th>\n",
       "    </tr>\n",
       "  </thead>\n",
       "  <tbody>\n",
       "    <tr>\n",
       "      <th>0</th>\n",
       "      <td>698567418</td>\n",
       "      <td>clk</td>\n",
       "      <td>20190610</td>\n",
       "      <td>840057631</td>\n",
       "    </tr>\n",
       "    <tr>\n",
       "      <th>1</th>\n",
       "      <td>1195431834</td>\n",
       "      <td>clk</td>\n",
       "      <td>20190616</td>\n",
       "      <td>840057631</td>\n",
       "    </tr>\n",
       "    <tr>\n",
       "      <th>2</th>\n",
       "      <td>324200109</td>\n",
       "      <td>clk</td>\n",
       "      <td>20190617</td>\n",
       "      <td>840057631</td>\n",
       "    </tr>\n",
       "  </tbody>\n",
       "</table>\n",
       "</div>"
      ],
      "text/plain": [
       "      item_id behavior_type      date    user_id\n",
       "0   698567418           clk  20190610  840057631\n",
       "1  1195431834           clk  20190616  840057631\n",
       "2   324200109           clk  20190617  840057631"
      ]
     },
     "execution_count": 3,
     "metadata": {},
     "output_type": "execute_result"
    }
   ],
   "source": [
    "train.head(3)"
   ]
  },
  {
   "cell_type": "code",
   "execution_count": 4,
   "metadata": {},
   "outputs": [],
   "source": [
    "train = train[{\"user_id\",\"item_id\"}]"
   ]
  },
  {
   "cell_type": "code",
   "execution_count": 5,
   "metadata": {},
   "outputs": [
    {
     "data": {
      "text/plain": [
       "(37101158, 2)"
      ]
     },
     "execution_count": 5,
     "metadata": {},
     "output_type": "execute_result"
    }
   ],
   "source": [
    "train.shape"
   ]
  },
  {
   "cell_type": "code",
   "execution_count": 6,
   "metadata": {},
   "outputs": [
    {
     "name": "stderr",
     "output_type": "stream",
     "text": [
      "D:\\myprogram\\Anaconda\\lib\\site-packages\\ipykernel_launcher.py:1: FutureWarning: read_table is deprecated, use read_csv instead, passing sep='\\t'.\n",
      "  \"\"\"Entry point for launching an IPython kernel.\n"
     ]
    }
   ],
   "source": [
    "new_user = pd.read_table(\"classify_value1.txt\",header =None)\n",
    "new_user = new_user.rename(columns={0:\"user_id\",14:\"user_kind\"})\n",
    "new_user = new_user[{\"user_id\",\"user_kind\"}]"
   ]
  },
  {
   "cell_type": "code",
   "execution_count": 7,
   "metadata": {},
   "outputs": [
    {
     "data": {
      "text/plain": [
       "(149322, 2)"
      ]
     },
     "execution_count": 7,
     "metadata": {},
     "output_type": "execute_result"
    }
   ],
   "source": [
    "new_user.shape"
   ]
  },
  {
   "cell_type": "code",
   "execution_count": 8,
   "metadata": {},
   "outputs": [],
   "source": [
    "train = pd.merge(train,new_user,on=[\"user_id\"])"
   ]
  },
  {
   "cell_type": "code",
   "execution_count": 9,
   "metadata": {},
   "outputs": [
    {
     "data": {
      "text/plain": [
       "(35354200, 3)"
      ]
     },
     "execution_count": 9,
     "metadata": {},
     "output_type": "execute_result"
    }
   ],
   "source": [
    "train.shape"
   ]
  },
  {
   "cell_type": "code",
   "execution_count": 11,
   "metadata": {},
   "outputs": [
    {
     "data": {
      "text/html": [
       "<div>\n",
       "<style scoped>\n",
       "    .dataframe tbody tr th:only-of-type {\n",
       "        vertical-align: middle;\n",
       "    }\n",
       "\n",
       "    .dataframe tbody tr th {\n",
       "        vertical-align: top;\n",
       "    }\n",
       "\n",
       "    .dataframe thead th {\n",
       "        text-align: right;\n",
       "    }\n",
       "</style>\n",
       "<table border=\"1\" class=\"dataframe\">\n",
       "  <thead>\n",
       "    <tr style=\"text-align: right;\">\n",
       "      <th></th>\n",
       "      <th>user_id</th>\n",
       "      <th>item_id</th>\n",
       "      <th>user_kind</th>\n",
       "    </tr>\n",
       "  </thead>\n",
       "  <tbody>\n",
       "    <tr>\n",
       "      <th>0</th>\n",
       "      <td>840057631</td>\n",
       "      <td>698567418</td>\n",
       "      <td>2</td>\n",
       "    </tr>\n",
       "    <tr>\n",
       "      <th>1</th>\n",
       "      <td>840057631</td>\n",
       "      <td>1195431834</td>\n",
       "      <td>2</td>\n",
       "    </tr>\n",
       "    <tr>\n",
       "      <th>2</th>\n",
       "      <td>840057631</td>\n",
       "      <td>324200109</td>\n",
       "      <td>2</td>\n",
       "    </tr>\n",
       "  </tbody>\n",
       "</table>\n",
       "</div>"
      ],
      "text/plain": [
       "     user_id     item_id  user_kind\n",
       "0  840057631   698567418          2\n",
       "1  840057631  1195431834          2\n",
       "2  840057631   324200109          2"
      ]
     },
     "execution_count": 11,
     "metadata": {},
     "output_type": "execute_result"
    }
   ],
   "source": [
    "train.head(3)"
   ]
  },
  {
   "cell_type": "code",
   "execution_count": 12,
   "metadata": {},
   "outputs": [],
   "source": [
    "train = train[{\"item_id\",\"user_kind\"}]"
   ]
  },
  {
   "cell_type": "code",
   "execution_count": 13,
   "metadata": {},
   "outputs": [
    {
     "data": {
      "text/html": [
       "<div>\n",
       "<style scoped>\n",
       "    .dataframe tbody tr th:only-of-type {\n",
       "        vertical-align: middle;\n",
       "    }\n",
       "\n",
       "    .dataframe tbody tr th {\n",
       "        vertical-align: top;\n",
       "    }\n",
       "\n",
       "    .dataframe thead th {\n",
       "        text-align: right;\n",
       "    }\n",
       "</style>\n",
       "<table border=\"1\" class=\"dataframe\">\n",
       "  <thead>\n",
       "    <tr style=\"text-align: right;\">\n",
       "      <th></th>\n",
       "      <th>item_id</th>\n",
       "      <th>user_kind</th>\n",
       "    </tr>\n",
       "  </thead>\n",
       "  <tbody>\n",
       "    <tr>\n",
       "      <th>0</th>\n",
       "      <td>698567418</td>\n",
       "      <td>2</td>\n",
       "    </tr>\n",
       "    <tr>\n",
       "      <th>1</th>\n",
       "      <td>1195431834</td>\n",
       "      <td>2</td>\n",
       "    </tr>\n",
       "    <tr>\n",
       "      <th>2</th>\n",
       "      <td>324200109</td>\n",
       "      <td>2</td>\n",
       "    </tr>\n",
       "  </tbody>\n",
       "</table>\n",
       "</div>"
      ],
      "text/plain": [
       "      item_id  user_kind\n",
       "0   698567418          2\n",
       "1  1195431834          2\n",
       "2   324200109          2"
      ]
     },
     "execution_count": 13,
     "metadata": {},
     "output_type": "execute_result"
    }
   ],
   "source": [
    "train.head(3)"
   ]
  },
  {
   "cell_type": "code",
   "execution_count": 14,
   "metadata": {},
   "outputs": [],
   "source": [
    "item = pd.read_csv(\"items.csv\")"
   ]
  },
  {
   "cell_type": "code",
   "execution_count": 15,
   "metadata": {},
   "outputs": [
    {
     "data": {
      "text/html": [
       "<div>\n",
       "<style scoped>\n",
       "    .dataframe tbody tr th:only-of-type {\n",
       "        vertical-align: middle;\n",
       "    }\n",
       "\n",
       "    .dataframe tbody tr th {\n",
       "        vertical-align: top;\n",
       "    }\n",
       "\n",
       "    .dataframe thead th {\n",
       "        text-align: right;\n",
       "    }\n",
       "</style>\n",
       "<table border=\"1\" class=\"dataframe\">\n",
       "  <thead>\n",
       "    <tr style=\"text-align: right;\">\n",
       "      <th></th>\n",
       "      <th>item_id</th>\n",
       "      <th>class1_id</th>\n",
       "      <th>class_id</th>\n",
       "      <th>brand_id</th>\n",
       "      <th>price</th>\n",
       "    </tr>\n",
       "  </thead>\n",
       "  <tbody>\n",
       "    <tr>\n",
       "      <th>0</th>\n",
       "      <td>43152</td>\n",
       "      <td>50022703</td>\n",
       "      <td>50003881</td>\n",
       "      <td>30652</td>\n",
       "      <td>1749.00</td>\n",
       "    </tr>\n",
       "    <tr>\n",
       "      <th>1</th>\n",
       "      <td>133107</td>\n",
       "      <td>11</td>\n",
       "      <td>110502</td>\n",
       "      <td>26683</td>\n",
       "      <td>189.98</td>\n",
       "    </tr>\n",
       "    <tr>\n",
       "      <th>2</th>\n",
       "      <td>138801</td>\n",
       "      <td>50010788</td>\n",
       "      <td>50010815</td>\n",
       "      <td>20067</td>\n",
       "      <td>538.50</td>\n",
       "    </tr>\n",
       "  </tbody>\n",
       "</table>\n",
       "</div>"
      ],
      "text/plain": [
       "   item_id  class1_id  class_id  brand_id    price\n",
       "0    43152   50022703  50003881     30652  1749.00\n",
       "1   133107         11    110502     26683   189.98\n",
       "2   138801   50010788  50010815     20067   538.50"
      ]
     },
     "execution_count": 15,
     "metadata": {},
     "output_type": "execute_result"
    }
   ],
   "source": [
    "item.head(3)"
   ]
  },
  {
   "cell_type": "code",
   "execution_count": 16,
   "metadata": {},
   "outputs": [],
   "source": [
    "item = item[{\"item_id\",\"price\"}]"
   ]
  },
  {
   "cell_type": "code",
   "execution_count": 17,
   "metadata": {},
   "outputs": [],
   "source": [
    "m = [0,75,150,300,400,1000,5000,100000,5000000]\n",
    "item[\"price\"] =pd.cut(item.price,m,labels=[1,2,3,4,5,6,7,8])"
   ]
  },
  {
   "cell_type": "code",
   "execution_count": 18,
   "metadata": {},
   "outputs": [
    {
     "data": {
      "text/plain": [
       "price      134\n",
       "item_id      0\n",
       "dtype: int64"
      ]
     },
     "execution_count": 18,
     "metadata": {},
     "output_type": "execute_result"
    }
   ],
   "source": [
    "item.isnull().sum()"
   ]
  },
  {
   "cell_type": "code",
   "execution_count": 19,
   "metadata": {},
   "outputs": [],
   "source": [
    "item[\"price\"] = item[\"price\"].cat.add_categories(['9'])\n",
    "item[\"price\"].fillna(\"9\",inplace=True)"
   ]
  },
  {
   "cell_type": "code",
   "execution_count": 20,
   "metadata": {},
   "outputs": [
    {
     "data": {
      "text/plain": [
       "price      0\n",
       "item_id    0\n",
       "dtype: int64"
      ]
     },
     "execution_count": 20,
     "metadata": {},
     "output_type": "execute_result"
    }
   ],
   "source": [
    "item.isnull().sum()"
   ]
  },
  {
   "cell_type": "code",
   "execution_count": 21,
   "metadata": {},
   "outputs": [
    {
     "data": {
      "text/html": [
       "<div>\n",
       "<style scoped>\n",
       "    .dataframe tbody tr th:only-of-type {\n",
       "        vertical-align: middle;\n",
       "    }\n",
       "\n",
       "    .dataframe tbody tr th {\n",
       "        vertical-align: top;\n",
       "    }\n",
       "\n",
       "    .dataframe thead th {\n",
       "        text-align: right;\n",
       "    }\n",
       "</style>\n",
       "<table border=\"1\" class=\"dataframe\">\n",
       "  <thead>\n",
       "    <tr style=\"text-align: right;\">\n",
       "      <th></th>\n",
       "      <th>price</th>\n",
       "      <th>item_id</th>\n",
       "    </tr>\n",
       "  </thead>\n",
       "  <tbody>\n",
       "    <tr>\n",
       "      <th>0</th>\n",
       "      <td>6</td>\n",
       "      <td>43152</td>\n",
       "    </tr>\n",
       "    <tr>\n",
       "      <th>1</th>\n",
       "      <td>3</td>\n",
       "      <td>133107</td>\n",
       "    </tr>\n",
       "    <tr>\n",
       "      <th>2</th>\n",
       "      <td>5</td>\n",
       "      <td>138801</td>\n",
       "    </tr>\n",
       "  </tbody>\n",
       "</table>\n",
       "</div>"
      ],
      "text/plain": [
       "  price  item_id\n",
       "0     6    43152\n",
       "1     3   133107\n",
       "2     5   138801"
      ]
     },
     "execution_count": 21,
     "metadata": {},
     "output_type": "execute_result"
    }
   ],
   "source": [
    "item.head(3)"
   ]
  },
  {
   "cell_type": "code",
   "execution_count": 22,
   "metadata": {},
   "outputs": [],
   "source": [
    "train = pd.merge(train,item,on=[\"item_id\"])"
   ]
  },
  {
   "cell_type": "code",
   "execution_count": 23,
   "metadata": {},
   "outputs": [
    {
     "data": {
      "text/html": [
       "<div>\n",
       "<style scoped>\n",
       "    .dataframe tbody tr th:only-of-type {\n",
       "        vertical-align: middle;\n",
       "    }\n",
       "\n",
       "    .dataframe tbody tr th {\n",
       "        vertical-align: top;\n",
       "    }\n",
       "\n",
       "    .dataframe thead th {\n",
       "        text-align: right;\n",
       "    }\n",
       "</style>\n",
       "<table border=\"1\" class=\"dataframe\">\n",
       "  <thead>\n",
       "    <tr style=\"text-align: right;\">\n",
       "      <th></th>\n",
       "      <th>item_id</th>\n",
       "      <th>user_kind</th>\n",
       "      <th>price</th>\n",
       "    </tr>\n",
       "  </thead>\n",
       "  <tbody>\n",
       "    <tr>\n",
       "      <th>0</th>\n",
       "      <td>698567418</td>\n",
       "      <td>2</td>\n",
       "      <td>4</td>\n",
       "    </tr>\n",
       "    <tr>\n",
       "      <th>1</th>\n",
       "      <td>698567418</td>\n",
       "      <td>3</td>\n",
       "      <td>4</td>\n",
       "    </tr>\n",
       "    <tr>\n",
       "      <th>2</th>\n",
       "      <td>698567418</td>\n",
       "      <td>3</td>\n",
       "      <td>4</td>\n",
       "    </tr>\n",
       "  </tbody>\n",
       "</table>\n",
       "</div>"
      ],
      "text/plain": [
       "     item_id  user_kind price\n",
       "0  698567418          2     4\n",
       "1  698567418          3     4\n",
       "2  698567418          3     4"
      ]
     },
     "execution_count": 23,
     "metadata": {},
     "output_type": "execute_result"
    }
   ],
   "source": [
    "train.head(3)"
   ]
  },
  {
   "cell_type": "code",
   "execution_count": 24,
   "metadata": {},
   "outputs": [],
   "source": [
    "train = train[{\"user_kind\",\"price\"}]"
   ]
  },
  {
   "cell_type": "markdown",
   "metadata": {},
   "source": [
    "## 2_6_behavior表存储完成"
   ]
  },
  {
   "cell_type": "code",
   "execution_count": 25,
   "metadata": {},
   "outputs": [],
   "source": [
    "train.to_csv(\"2_6_behavior.csv\",index= False)"
   ]
  },
  {
   "cell_type": "code",
   "execution_count": 14,
   "metadata": {},
   "outputs": [],
   "source": [
    "data = pd.read_csv(\"finaldata/2_6_behavior.csv\")"
   ]
  },
  {
   "cell_type": "code",
   "execution_count": 15,
   "metadata": {},
   "outputs": [
    {
     "data": {
      "text/html": [
       "<div>\n",
       "<style scoped>\n",
       "    .dataframe tbody tr th:only-of-type {\n",
       "        vertical-align: middle;\n",
       "    }\n",
       "\n",
       "    .dataframe tbody tr th {\n",
       "        vertical-align: top;\n",
       "    }\n",
       "\n",
       "    .dataframe thead th {\n",
       "        text-align: right;\n",
       "    }\n",
       "</style>\n",
       "<table border=\"1\" class=\"dataframe\">\n",
       "  <thead>\n",
       "    <tr style=\"text-align: right;\">\n",
       "      <th></th>\n",
       "      <th>price</th>\n",
       "      <th>user_kind</th>\n",
       "    </tr>\n",
       "  </thead>\n",
       "  <tbody>\n",
       "    <tr>\n",
       "      <th>0</th>\n",
       "      <td>4</td>\n",
       "      <td>2</td>\n",
       "    </tr>\n",
       "    <tr>\n",
       "      <th>1</th>\n",
       "      <td>4</td>\n",
       "      <td>3</td>\n",
       "    </tr>\n",
       "    <tr>\n",
       "      <th>2</th>\n",
       "      <td>4</td>\n",
       "      <td>3</td>\n",
       "    </tr>\n",
       "  </tbody>\n",
       "</table>\n",
       "</div>"
      ],
      "text/plain": [
       "   price  user_kind\n",
       "0      4          2\n",
       "1      4          3\n",
       "2      4          3"
      ]
     },
     "execution_count": 15,
     "metadata": {},
     "output_type": "execute_result"
    }
   ],
   "source": [
    "data.head(3)"
   ]
  },
  {
   "cell_type": "code",
   "execution_count": 7,
   "metadata": {},
   "outputs": [],
   "source": [
    "data[\"age\"] = data[\"pred_age_level\"].apply(lambda x : x.replace(\",\",\"_\"))"
   ]
  },
  {
   "cell_type": "code",
   "execution_count": 8,
   "metadata": {},
   "outputs": [
    {
     "data": {
      "text/html": [
       "<div>\n",
       "<style scoped>\n",
       "    .dataframe tbody tr th:only-of-type {\n",
       "        vertical-align: middle;\n",
       "    }\n",
       "\n",
       "    .dataframe tbody tr th {\n",
       "        vertical-align: top;\n",
       "    }\n",
       "\n",
       "    .dataframe thead th {\n",
       "        text-align: right;\n",
       "    }\n",
       "</style>\n",
       "<table border=\"1\" class=\"dataframe\">\n",
       "  <thead>\n",
       "    <tr style=\"text-align: right;\">\n",
       "      <th></th>\n",
       "      <th>class1_id</th>\n",
       "      <th>pred_age_level</th>\n",
       "      <th>age</th>\n",
       "    </tr>\n",
       "  </thead>\n",
       "  <tbody>\n",
       "    <tr>\n",
       "      <th>0</th>\n",
       "      <td>1801</td>\n",
       "      <td>[25,29]</td>\n",
       "      <td>[25_29]</td>\n",
       "    </tr>\n",
       "    <tr>\n",
       "      <th>1</th>\n",
       "      <td>16</td>\n",
       "      <td>[25,29]</td>\n",
       "      <td>[25_29]</td>\n",
       "    </tr>\n",
       "    <tr>\n",
       "      <th>2</th>\n",
       "      <td>1801</td>\n",
       "      <td>[25,29]</td>\n",
       "      <td>[25_29]</td>\n",
       "    </tr>\n",
       "  </tbody>\n",
       "</table>\n",
       "</div>"
      ],
      "text/plain": [
       "   class1_id pred_age_level      age\n",
       "0       1801        [25,29]  [25_29]\n",
       "1         16        [25,29]  [25_29]\n",
       "2       1801        [25,29]  [25_29]"
      ]
     },
     "execution_count": 8,
     "metadata": {},
     "output_type": "execute_result"
    }
   ],
   "source": [
    "data.head(3)"
   ]
  },
  {
   "cell_type": "code",
   "execution_count": 9,
   "metadata": {},
   "outputs": [],
   "source": [
    "data = data.drop([\"pred_age_level\"],axis= 1)"
   ]
  },
  {
   "cell_type": "code",
   "execution_count": 12,
   "metadata": {},
   "outputs": [],
   "source": [
    "data.to_csv(\"finaldata/new_2_4_behavior.csv\",index = False)"
   ]
  },
  {
   "cell_type": "code",
   "execution_count": 13,
   "metadata": {},
   "outputs": [
    {
     "data": {
      "text/html": [
       "<div>\n",
       "<style scoped>\n",
       "    .dataframe tbody tr th:only-of-type {\n",
       "        vertical-align: middle;\n",
       "    }\n",
       "\n",
       "    .dataframe tbody tr th {\n",
       "        vertical-align: top;\n",
       "    }\n",
       "\n",
       "    .dataframe thead th {\n",
       "        text-align: right;\n",
       "    }\n",
       "</style>\n",
       "<table border=\"1\" class=\"dataframe\">\n",
       "  <thead>\n",
       "    <tr style=\"text-align: right;\">\n",
       "      <th></th>\n",
       "      <th>class1_id</th>\n",
       "      <th>age</th>\n",
       "    </tr>\n",
       "  </thead>\n",
       "  <tbody>\n",
       "    <tr>\n",
       "      <th>0</th>\n",
       "      <td>1801</td>\n",
       "      <td>[25_29]</td>\n",
       "    </tr>\n",
       "    <tr>\n",
       "      <th>1</th>\n",
       "      <td>16</td>\n",
       "      <td>[25_29]</td>\n",
       "    </tr>\n",
       "  </tbody>\n",
       "</table>\n",
       "</div>"
      ],
      "text/plain": [
       "   class1_id      age\n",
       "0       1801  [25_29]\n",
       "1         16  [25_29]"
      ]
     },
     "execution_count": 13,
     "metadata": {},
     "output_type": "execute_result"
    }
   ],
   "source": [
    "data.head(2)"
   ]
  },
  {
   "cell_type": "code",
   "execution_count": 18,
   "metadata": {},
   "outputs": [
    {
     "data": {
      "text/html": [
       "<div>\n",
       "<style scoped>\n",
       "    .dataframe tbody tr th:only-of-type {\n",
       "        vertical-align: middle;\n",
       "    }\n",
       "\n",
       "    .dataframe tbody tr th {\n",
       "        vertical-align: top;\n",
       "    }\n",
       "\n",
       "    .dataframe thead th {\n",
       "        text-align: right;\n",
       "    }\n",
       "</style>\n",
       "<table border=\"1\" class=\"dataframe\">\n",
       "  <thead>\n",
       "    <tr style=\"text-align: right;\">\n",
       "      <th></th>\n",
       "      <th>pred_stage</th>\n",
       "      <th>user_id</th>\n",
       "      <th>pred_age_level</th>\n",
       "      <th>pred_gender</th>\n",
       "      <th>predict_income</th>\n",
       "      <th>province_id</th>\n",
       "    </tr>\n",
       "  </thead>\n",
       "  <tbody>\n",
       "    <tr>\n",
       "      <th>0</th>\n",
       "      <td>1,6,4,2</td>\n",
       "      <td>48100333</td>\n",
       "      <td>[35,39]</td>\n",
       "      <td>M</td>\n",
       "      <td>8229.2</td>\n",
       "      <td>19</td>\n",
       "    </tr>\n",
       "    <tr>\n",
       "      <th>1</th>\n",
       "      <td>1,6,4</td>\n",
       "      <td>111725039</td>\n",
       "      <td>[25,29]</td>\n",
       "      <td>F</td>\n",
       "      <td>6871.9</td>\n",
       "      <td>6</td>\n",
       "    </tr>\n",
       "    <tr>\n",
       "      <th>2</th>\n",
       "      <td>1,4,8,5,2</td>\n",
       "      <td>124649973</td>\n",
       "      <td>[30,34]</td>\n",
       "      <td>M</td>\n",
       "      <td>7025.7</td>\n",
       "      <td>8</td>\n",
       "    </tr>\n",
       "  </tbody>\n",
       "</table>\n",
       "</div>"
      ],
      "text/plain": [
       "  pred_stage    user_id pred_age_level pred_gender  predict_income  \\\n",
       "0    1,6,4,2   48100333        [35,39]           M          8229.2   \n",
       "1      1,6,4  111725039        [25,29]           F          6871.9   \n",
       "2  1,4,8,5,2  124649973        [30,34]           M          7025.7   \n",
       "\n",
       "   province_id  \n",
       "0           19  \n",
       "1            6  \n",
       "2            8  "
      ]
     },
     "execution_count": 18,
     "metadata": {},
     "output_type": "execute_result"
    }
   ],
   "source": [
    "user.head(3)"
   ]
  },
  {
   "cell_type": "code",
   "execution_count": 19,
   "metadata": {},
   "outputs": [],
   "source": [
    "user[\"age\"] = user[\"pred_age_level\"].apply(lambda x : x.replace(\",\",\"_\"))"
   ]
  },
  {
   "cell_type": "code",
   "execution_count": 20,
   "metadata": {},
   "outputs": [],
   "source": [
    "user = user.drop([\"pred_age_level\"],axis= 1)"
   ]
  },
  {
   "cell_type": "code",
   "execution_count": 21,
   "metadata": {},
   "outputs": [
    {
     "data": {
      "text/html": [
       "<div>\n",
       "<style scoped>\n",
       "    .dataframe tbody tr th:only-of-type {\n",
       "        vertical-align: middle;\n",
       "    }\n",
       "\n",
       "    .dataframe tbody tr th {\n",
       "        vertical-align: top;\n",
       "    }\n",
       "\n",
       "    .dataframe thead th {\n",
       "        text-align: right;\n",
       "    }\n",
       "</style>\n",
       "<table border=\"1\" class=\"dataframe\">\n",
       "  <thead>\n",
       "    <tr style=\"text-align: right;\">\n",
       "      <th></th>\n",
       "      <th>pred_stage</th>\n",
       "      <th>user_id</th>\n",
       "      <th>pred_gender</th>\n",
       "      <th>predict_income</th>\n",
       "      <th>province_id</th>\n",
       "      <th>age</th>\n",
       "    </tr>\n",
       "  </thead>\n",
       "  <tbody>\n",
       "    <tr>\n",
       "      <th>0</th>\n",
       "      <td>1,6,4,2</td>\n",
       "      <td>48100333</td>\n",
       "      <td>M</td>\n",
       "      <td>8229.2</td>\n",
       "      <td>19</td>\n",
       "      <td>[35_39]</td>\n",
       "    </tr>\n",
       "    <tr>\n",
       "      <th>1</th>\n",
       "      <td>1,6,4</td>\n",
       "      <td>111725039</td>\n",
       "      <td>F</td>\n",
       "      <td>6871.9</td>\n",
       "      <td>6</td>\n",
       "      <td>[25_29]</td>\n",
       "    </tr>\n",
       "    <tr>\n",
       "      <th>2</th>\n",
       "      <td>1,4,8,5,2</td>\n",
       "      <td>124649973</td>\n",
       "      <td>M</td>\n",
       "      <td>7025.7</td>\n",
       "      <td>8</td>\n",
       "      <td>[30_34]</td>\n",
       "    </tr>\n",
       "  </tbody>\n",
       "</table>\n",
       "</div>"
      ],
      "text/plain": [
       "  pred_stage    user_id pred_gender  predict_income  province_id      age\n",
       "0    1,6,4,2   48100333           M          8229.2           19  [35_39]\n",
       "1      1,6,4  111725039           F          6871.9            6  [25_29]\n",
       "2  1,4,8,5,2  124649973           M          7025.7            8  [30_34]"
      ]
     },
     "execution_count": 21,
     "metadata": {},
     "output_type": "execute_result"
    }
   ],
   "source": [
    "user.head(3)"
   ]
  },
  {
   "cell_type": "code",
   "execution_count": 50,
   "metadata": {},
   "outputs": [],
   "source": [
    "user.to_csv(\"new_user.csv\",index = False)"
   ]
  },
  {
   "cell_type": "code",
   "execution_count": 23,
   "metadata": {},
   "outputs": [],
   "source": [
    "user = pd.read_csv(\"new_user.csv\")"
   ]
  },
  {
   "cell_type": "code",
   "execution_count": 24,
   "metadata": {},
   "outputs": [
    {
     "data": {
      "text/html": [
       "<div>\n",
       "<style scoped>\n",
       "    .dataframe tbody tr th:only-of-type {\n",
       "        vertical-align: middle;\n",
       "    }\n",
       "\n",
       "    .dataframe tbody tr th {\n",
       "        vertical-align: top;\n",
       "    }\n",
       "\n",
       "    .dataframe thead th {\n",
       "        text-align: right;\n",
       "    }\n",
       "</style>\n",
       "<table border=\"1\" class=\"dataframe\">\n",
       "  <thead>\n",
       "    <tr style=\"text-align: right;\">\n",
       "      <th></th>\n",
       "      <th>pred_stage</th>\n",
       "      <th>user_id</th>\n",
       "      <th>pred_gender</th>\n",
       "      <th>predict_income</th>\n",
       "      <th>province_id</th>\n",
       "      <th>age</th>\n",
       "    </tr>\n",
       "  </thead>\n",
       "  <tbody>\n",
       "    <tr>\n",
       "      <th>0</th>\n",
       "      <td>1,6,4,2</td>\n",
       "      <td>48100333</td>\n",
       "      <td>M</td>\n",
       "      <td>8229.2</td>\n",
       "      <td>19</td>\n",
       "      <td>[35_39]</td>\n",
       "    </tr>\n",
       "    <tr>\n",
       "      <th>1</th>\n",
       "      <td>1,6,4</td>\n",
       "      <td>111725039</td>\n",
       "      <td>F</td>\n",
       "      <td>6871.9</td>\n",
       "      <td>6</td>\n",
       "      <td>[25_29]</td>\n",
       "    </tr>\n",
       "  </tbody>\n",
       "</table>\n",
       "</div>"
      ],
      "text/plain": [
       "  pred_stage    user_id pred_gender  predict_income  province_id      age\n",
       "0    1,6,4,2   48100333           M          8229.2           19  [35_39]\n",
       "1      1,6,4  111725039           F          6871.9            6  [25_29]"
      ]
     },
     "execution_count": 24,
     "metadata": {},
     "output_type": "execute_result"
    }
   ],
   "source": [
    "user.head(2)"
   ]
  },
  {
   "cell_type": "code",
   "execution_count": 25,
   "metadata": {},
   "outputs": [],
   "source": [
    "user[\"stage\"] = user[\"pred_stage\"].apply(lambda x : x.replace(\",\",\"_\"))"
   ]
  },
  {
   "cell_type": "code",
   "execution_count": 26,
   "metadata": {},
   "outputs": [],
   "source": [
    "user = user.drop([\"pred_stage\"],axis= 1)"
   ]
  },
  {
   "cell_type": "code",
   "execution_count": 27,
   "metadata": {},
   "outputs": [
    {
     "data": {
      "text/html": [
       "<div>\n",
       "<style scoped>\n",
       "    .dataframe tbody tr th:only-of-type {\n",
       "        vertical-align: middle;\n",
       "    }\n",
       "\n",
       "    .dataframe tbody tr th {\n",
       "        vertical-align: top;\n",
       "    }\n",
       "\n",
       "    .dataframe thead th {\n",
       "        text-align: right;\n",
       "    }\n",
       "</style>\n",
       "<table border=\"1\" class=\"dataframe\">\n",
       "  <thead>\n",
       "    <tr style=\"text-align: right;\">\n",
       "      <th></th>\n",
       "      <th>user_id</th>\n",
       "      <th>pred_gender</th>\n",
       "      <th>predict_income</th>\n",
       "      <th>province_id</th>\n",
       "      <th>age</th>\n",
       "      <th>stage</th>\n",
       "    </tr>\n",
       "  </thead>\n",
       "  <tbody>\n",
       "    <tr>\n",
       "      <th>0</th>\n",
       "      <td>48100333</td>\n",
       "      <td>M</td>\n",
       "      <td>8229.2</td>\n",
       "      <td>19</td>\n",
       "      <td>[35_39]</td>\n",
       "      <td>1_6_4_2</td>\n",
       "    </tr>\n",
       "    <tr>\n",
       "      <th>1</th>\n",
       "      <td>111725039</td>\n",
       "      <td>F</td>\n",
       "      <td>6871.9</td>\n",
       "      <td>6</td>\n",
       "      <td>[25_29]</td>\n",
       "      <td>1_6_4</td>\n",
       "    </tr>\n",
       "    <tr>\n",
       "      <th>2</th>\n",
       "      <td>124649973</td>\n",
       "      <td>M</td>\n",
       "      <td>7025.7</td>\n",
       "      <td>8</td>\n",
       "      <td>[30_34]</td>\n",
       "      <td>1_4_8_5_2</td>\n",
       "    </tr>\n",
       "  </tbody>\n",
       "</table>\n",
       "</div>"
      ],
      "text/plain": [
       "     user_id pred_gender  predict_income  province_id      age      stage\n",
       "0   48100333           M          8229.2           19  [35_39]    1_6_4_2\n",
       "1  111725039           F          6871.9            6  [25_29]      1_6_4\n",
       "2  124649973           M          7025.7            8  [30_34]  1_4_8_5_2"
      ]
     },
     "execution_count": 27,
     "metadata": {},
     "output_type": "execute_result"
    }
   ],
   "source": [
    "user.head(3)"
   ]
  },
  {
   "cell_type": "code",
   "execution_count": 30,
   "metadata": {},
   "outputs": [
    {
     "data": {
      "text/plain": [
       "(array([8.2500e+03, 8.2827e+04, 4.3179e+04, 2.1134e+04, 6.2700e+03,\n",
       "        1.6710e+03, 4.1800e+02, 1.1200e+02, 3.2000e+01, 4.0000e+00]),\n",
       " array([ 1642.2 ,  3782.44,  5922.68,  8062.92, 10203.16, 12343.4 ,\n",
       "        14483.64, 16623.88, 18764.12, 20904.36, 23044.6 ]),\n",
       " <a list of 10 Patch objects>)"
      ]
     },
     "execution_count": 30,
     "metadata": {},
     "output_type": "execute_result"
    },
    {
     "data": {
      "image/png": "[encoded data removed]",
      "text/plain": [
       "<Figure size 432x288 with 1 Axes>"
      ]
     },
     "metadata": {
      "needs_background": "light"
     },
     "output_type": "display_data"
    }
   ],
   "source": [
    "plt.hist(user[\"predict_income\"])"
   ]
  },
  {
   "cell_type": "code",
   "execution_count": 31,
   "metadata": {},
   "outputs": [
    {
     "data": {
      "text/plain": [
       "23044.6"
      ]
     },
     "execution_count": 31,
     "metadata": {},
     "output_type": "execute_result"
    }
   ],
   "source": [
    "user[\"predict_income\"].max()"
   ]
  },
  {
   "cell_type": "code",
   "execution_count": 33,
   "metadata": {},
   "outputs": [],
   "source": [
    "m = [0,5000,8000,9000,12000,18000,25000]\n",
    "user[\"predict_income\"] =pd.cut(user.predict_income,m,labels=[1,2,3,4,5,6])"
   ]
  },
  {
   "cell_type": "code",
   "execution_count": 34,
   "metadata": {},
   "outputs": [
    {
     "data": {
      "text/html": [
       "<div>\n",
       "<style scoped>\n",
       "    .dataframe tbody tr th:only-of-type {\n",
       "        vertical-align: middle;\n",
       "    }\n",
       "\n",
       "    .dataframe tbody tr th {\n",
       "        vertical-align: top;\n",
       "    }\n",
       "\n",
       "    .dataframe thead th {\n",
       "        text-align: right;\n",
       "    }\n",
       "</style>\n",
       "<table border=\"1\" class=\"dataframe\">\n",
       "  <thead>\n",
       "    <tr style=\"text-align: right;\">\n",
       "      <th></th>\n",
       "      <th>user_id</th>\n",
       "      <th>pred_gender</th>\n",
       "      <th>predict_income</th>\n",
       "      <th>province_id</th>\n",
       "      <th>age</th>\n",
       "      <th>stage</th>\n",
       "    </tr>\n",
       "  </thead>\n",
       "  <tbody>\n",
       "    <tr>\n",
       "      <th>0</th>\n",
       "      <td>48100333</td>\n",
       "      <td>M</td>\n",
       "      <td>3</td>\n",
       "      <td>19</td>\n",
       "      <td>[35_39]</td>\n",
       "      <td>1_6_4_2</td>\n",
       "    </tr>\n",
       "    <tr>\n",
       "      <th>1</th>\n",
       "      <td>111725039</td>\n",
       "      <td>F</td>\n",
       "      <td>2</td>\n",
       "      <td>6</td>\n",
       "      <td>[25_29]</td>\n",
       "      <td>1_6_4</td>\n",
       "    </tr>\n",
       "    <tr>\n",
       "      <th>2</th>\n",
       "      <td>124649973</td>\n",
       "      <td>M</td>\n",
       "      <td>2</td>\n",
       "      <td>8</td>\n",
       "      <td>[30_34]</td>\n",
       "      <td>1_4_8_5_2</td>\n",
       "    </tr>\n",
       "    <tr>\n",
       "      <th>3</th>\n",
       "      <td>127725416</td>\n",
       "      <td>F</td>\n",
       "      <td>4</td>\n",
       "      <td>25</td>\n",
       "      <td>[30_34]</td>\n",
       "      <td>1_4_5_2</td>\n",
       "    </tr>\n",
       "  </tbody>\n",
       "</table>\n",
       "</div>"
      ],
      "text/plain": [
       "     user_id pred_gender predict_income  province_id      age      stage\n",
       "0   48100333           M              3           19  [35_39]    1_6_4_2\n",
       "1  111725039           F              2            6  [25_29]      1_6_4\n",
       "2  124649973           M              2            8  [30_34]  1_4_8_5_2\n",
       "3  127725416           F              4           25  [30_34]    1_4_5_2"
      ]
     },
     "execution_count": 34,
     "metadata": {},
     "output_type": "execute_result"
    }
   ],
   "source": [
    "user.head(4)"
   ]
  },
  {
   "cell_type": "code",
   "execution_count": 37,
   "metadata": {},
   "outputs": [
    {
     "name": "stdout",
     "output_type": "stream",
     "text": [
      "<class 'pandas.core.frame.DataFrame'>\n",
      "RangeIndex: 163897 entries, 0 to 163896\n",
      "Data columns (total 6 columns):\n",
      "user_id           163897 non-null int64\n",
      "pred_gender       163897 non-null object\n",
      "predict_income    163897 non-null category\n",
      "province_id       163897 non-null int64\n",
      "age               163897 non-null object\n",
      "stage             163897 non-null object\n",
      "dtypes: category(1), int64(2), object(3)\n",
      "memory usage: 6.4+ MB\n"
     ]
    }
   ],
   "source": [
    "user.info()"
   ]
  },
  {
   "cell_type": "code",
   "execution_count": 48,
   "metadata": {},
   "outputs": [],
   "source": [
    "user[\"stage\"] = user[\"stage\"].apply(lambda x : max(list(map(int,x.split(\"_\"))) ))"
   ]
  },
  {
   "cell_type": "code",
   "execution_count": 45,
   "metadata": {},
   "outputs": [],
   "source": [
    "x = \"1_4_8_5_2_10\""
   ]
  },
  {
   "cell_type": "code",
   "execution_count": 46,
   "metadata": {},
   "outputs": [
    {
     "data": {
      "text/plain": [
       "'8'"
      ]
     },
     "execution_count": 46,
     "metadata": {},
     "output_type": "execute_result"
    }
   ],
   "source": [
    "max(x.split(\"_\"))"
   ]
  },
  {
   "cell_type": "code",
   "execution_count": 47,
   "metadata": {},
   "outputs": [
    {
     "data": {
      "text/plain": [
       "10"
      ]
     },
     "execution_count": 47,
     "metadata": {},
     "output_type": "execute_result"
    }
   ],
   "source": [
    "max(list(map(int,x.split(\"_\"))) )"
   ]
  },
  {
   "cell_type": "code",
   "execution_count": 49,
   "metadata": {},
   "outputs": [
    {
     "data": {
      "text/html": [
       "<div>\n",
       "<style scoped>\n",
       "    .dataframe tbody tr th:only-of-type {\n",
       "        vertical-align: middle;\n",
       "    }\n",
       "\n",
       "    .dataframe tbody tr th {\n",
       "        vertical-align: top;\n",
       "    }\n",
       "\n",
       "    .dataframe thead th {\n",
       "        text-align: right;\n",
       "    }\n",
       "</style>\n",
       "<table border=\"1\" class=\"dataframe\">\n",
       "  <thead>\n",
       "    <tr style=\"text-align: right;\">\n",
       "      <th></th>\n",
       "      <th>user_id</th>\n",
       "      <th>pred_gender</th>\n",
       "      <th>predict_income</th>\n",
       "      <th>province_id</th>\n",
       "      <th>age</th>\n",
       "      <th>stage</th>\n",
       "    </tr>\n",
       "  </thead>\n",
       "  <tbody>\n",
       "    <tr>\n",
       "      <th>0</th>\n",
       "      <td>48100333</td>\n",
       "      <td>M</td>\n",
       "      <td>3</td>\n",
       "      <td>19</td>\n",
       "      <td>[35_39]</td>\n",
       "      <td>6</td>\n",
       "    </tr>\n",
       "    <tr>\n",
       "      <th>1</th>\n",
       "      <td>111725039</td>\n",
       "      <td>F</td>\n",
       "      <td>2</td>\n",
       "      <td>6</td>\n",
       "      <td>[25_29]</td>\n",
       "      <td>6</td>\n",
       "    </tr>\n",
       "  </tbody>\n",
       "</table>\n",
       "</div>"
      ],
      "text/plain": [
       "     user_id pred_gender predict_income  province_id      age  stage\n",
       "0   48100333           M              3           19  [35_39]      6\n",
       "1  111725039           F              2            6  [25_29]      6"
      ]
     },
     "execution_count": 49,
     "metadata": {},
     "output_type": "execute_result"
    }
   ],
   "source": [
    "user.head(2)"
   ]
  },
  {
   "cell_type": "code",
   "execution_count": null,
   "metadata": {},
   "outputs": [],
   "source": []
  }
 ],
 "metadata": {
  "kernelspec": {
   "display_name": "Python 3",
   "language": "python",
   "name": "python3"
  },
  "language_info": {
   "codemirror_mode": {
    "name": "ipython",
    "version": 3
   },
   "file_extension": ".py",
   "mimetype": "text/x-python",
   "name": "python",
   "nbconvert_exporter": "python",
   "pygments_lexer": "ipython3",
   "version": "3.7.3"
  }
 },
 "nbformat": 4,
 "nbformat_minor": 2
}
