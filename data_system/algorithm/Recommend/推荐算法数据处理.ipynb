{
 "cells": [
  {
   "cell_type": "markdown",
   "metadata": {},
   "source": [
    "# 需求分析"
   ]
  },
  {
   "cell_type": "markdown",
   "metadata": {},
   "source": [
    "- 得到每个用户，对某个物品的点击数、加购数、收藏数、购买数\n",
    "- 得到每个用户对每个物品的评分（暂定是点击数）"
   ]
  },
  {
   "cell_type": "code",
   "execution_count": 1,
   "metadata": {},
   "outputs": [],
   "source": [
    "import numpy as np\n",
    "import pandas as pd\n",
    "import matplotlib.pyplot as plt"
   ]
  },
  {
   "cell_type": "code",
   "execution_count": 2,
   "metadata": {},
   "outputs": [],
   "source": [
    "base_path='../../datasets/'\n",
    "items=pd.read_csv(base_path+'items.csv')\n",
    "behavior=pd.read_csv(base_path+'train.csv')"
   ]
  },
  {
   "cell_type": "code",
   "execution_count": 3,
   "metadata": {},
   "outputs": [
    {
     "data": {
      "text/html": [
       "<div>\n",
       "<style scoped>\n",
       "    .dataframe tbody tr th:only-of-type {\n",
       "        vertical-align: middle;\n",
       "    }\n",
       "\n",
       "    .dataframe tbody tr th {\n",
       "        vertical-align: top;\n",
       "    }\n",
       "\n",
       "    .dataframe thead th {\n",
       "        text-align: right;\n",
       "    }\n",
       "</style>\n",
       "<table border=\"1\" class=\"dataframe\">\n",
       "  <thead>\n",
       "    <tr style=\"text-align: right;\">\n",
       "      <th></th>\n",
       "      <th>item_id</th>\n",
       "      <th>class1_id</th>\n",
       "      <th>class_id</th>\n",
       "      <th>brand_id</th>\n",
       "      <th>price</th>\n",
       "    </tr>\n",
       "  </thead>\n",
       "  <tbody>\n",
       "    <tr>\n",
       "      <th>0</th>\n",
       "      <td>43152</td>\n",
       "      <td>50022703</td>\n",
       "      <td>50003881</td>\n",
       "      <td>30652</td>\n",
       "      <td>1749.00</td>\n",
       "    </tr>\n",
       "    <tr>\n",
       "      <th>1</th>\n",
       "      <td>133107</td>\n",
       "      <td>11</td>\n",
       "      <td>110502</td>\n",
       "      <td>26683</td>\n",
       "      <td>189.98</td>\n",
       "    </tr>\n",
       "    <tr>\n",
       "      <th>2</th>\n",
       "      <td>138801</td>\n",
       "      <td>50010788</td>\n",
       "      <td>50010815</td>\n",
       "      <td>20067</td>\n",
       "      <td>538.50</td>\n",
       "    </tr>\n",
       "    <tr>\n",
       "      <th>3</th>\n",
       "      <td>140174</td>\n",
       "      <td>50010788</td>\n",
       "      <td>50010815</td>\n",
       "      <td>20112</td>\n",
       "      <td>814.00</td>\n",
       "    </tr>\n",
       "    <tr>\n",
       "      <th>4</th>\n",
       "      <td>237779</td>\n",
       "      <td>1801</td>\n",
       "      <td>50011980</td>\n",
       "      <td>20000</td>\n",
       "      <td>39.00</td>\n",
       "    </tr>\n",
       "  </tbody>\n",
       "</table>\n",
       "</div>"
      ],
      "text/plain": [
       "   item_id  class1_id  class_id  brand_id    price\n",
       "0    43152   50022703  50003881     30652  1749.00\n",
       "1   133107         11    110502     26683   189.98\n",
       "2   138801   50010788  50010815     20067   538.50\n",
       "3   140174   50010788  50010815     20112   814.00\n",
       "4   237779       1801  50011980     20000    39.00"
      ]
     },
     "execution_count": 3,
     "metadata": {},
     "output_type": "execute_result"
    }
   ],
   "source": [
    "# items.set_index('item_id',inplace=True)\n",
    "items.head()"
   ]
  },
  {
   "cell_type": "code",
   "execution_count": 4,
   "metadata": {},
   "outputs": [
    {
     "name": "stdout",
     "output_type": "stream",
     "text": [
      "10786748\n",
      "111\n",
      "8381\n",
      "197784\n"
     ]
    }
   ],
   "source": [
    "print(items['item_id'].nunique())\n",
    "print(items['class1_id'].nunique())\n",
    "print(items['class_id'].nunique())\n",
    "print(items['brand_id'].nunique())\n",
    "# print(items.count())"
   ]
  },
  {
   "cell_type": "code",
   "execution_count": 6,
   "metadata": {},
   "outputs": [
    {
     "data": {
      "text/html": [
       "<div>\n",
       "<style scoped>\n",
       "    .dataframe tbody tr th:only-of-type {\n",
       "        vertical-align: middle;\n",
       "    }\n",
       "\n",
       "    .dataframe tbody tr th {\n",
       "        vertical-align: top;\n",
       "    }\n",
       "\n",
       "    .dataframe thead th {\n",
       "        text-align: right;\n",
       "    }\n",
       "</style>\n",
       "<table border=\"1\" class=\"dataframe\">\n",
       "  <thead>\n",
       "    <tr style=\"text-align: right;\">\n",
       "      <th></th>\n",
       "      <th>item_id</th>\n",
       "      <th>behavior_type</th>\n",
       "      <th>date</th>\n",
       "      <th>user_id</th>\n",
       "    </tr>\n",
       "    <tr>\n",
       "      <th>behavior_id</th>\n",
       "      <th></th>\n",
       "      <th></th>\n",
       "      <th></th>\n",
       "      <th></th>\n",
       "    </tr>\n",
       "  </thead>\n",
       "  <tbody>\n",
       "    <tr>\n",
       "      <th>0</th>\n",
       "      <td>698567418</td>\n",
       "      <td>clk</td>\n",
       "      <td>20190610</td>\n",
       "      <td>840057631</td>\n",
       "    </tr>\n",
       "    <tr>\n",
       "      <th>1</th>\n",
       "      <td>1195431834</td>\n",
       "      <td>clk</td>\n",
       "      <td>20190616</td>\n",
       "      <td>840057631</td>\n",
       "    </tr>\n",
       "    <tr>\n",
       "      <th>2</th>\n",
       "      <td>324200109</td>\n",
       "      <td>clk</td>\n",
       "      <td>20190617</td>\n",
       "      <td>840057631</td>\n",
       "    </tr>\n",
       "    <tr>\n",
       "      <th>3</th>\n",
       "      <td>1152236334</td>\n",
       "      <td>clk</td>\n",
       "      <td>20190613</td>\n",
       "      <td>840057631</td>\n",
       "    </tr>\n",
       "    <tr>\n",
       "      <th>4</th>\n",
       "      <td>948161162</td>\n",
       "      <td>clk</td>\n",
       "      <td>20190611</td>\n",
       "      <td>840057631</td>\n",
       "    </tr>\n",
       "  </tbody>\n",
       "</table>\n",
       "</div>"
      ],
      "text/plain": [
       "                item_id behavior_type      date    user_id\n",
       "behavior_id                                               \n",
       "0             698567418           clk  20190610  840057631\n",
       "1            1195431834           clk  20190616  840057631\n",
       "2             324200109           clk  20190617  840057631\n",
       "3            1152236334           clk  20190613  840057631\n",
       "4             948161162           clk  20190611  840057631"
      ]
     },
     "execution_count": 6,
     "metadata": {},
     "output_type": "execute_result"
    }
   ],
   "source": [
    "behavior.columns=['behavior_id','item_id','behavior_type','date','user_id']\n",
    "behavior.set_index('behavior_id',inplace=True)\n",
    "behavior.head()"
   ]
  },
  {
   "cell_type": "code",
   "execution_count": 7,
   "metadata": {},
   "outputs": [
    {
     "name": "stdout",
     "output_type": "stream",
     "text": [
      "30.559988260269165\n"
     ]
    }
   ],
   "source": [
    "import time\n",
    "t1=time.time()\n",
    "behavior_brand=pd.merge(items,behavior,how='inner',on='item_id')\n",
    "t2=time.time()\n",
    "print(''%fs'%t2-t1)"
   ]
  },
  {
   "cell_type": "code",
   "execution_count": 8,
   "metadata": {},
   "outputs": [
    {
     "data": {
      "text/html": [
       "<div>\n",
       "<style scoped>\n",
       "    .dataframe tbody tr th:only-of-type {\n",
       "        vertical-align: middle;\n",
       "    }\n",
       "\n",
       "    .dataframe tbody tr th {\n",
       "        vertical-align: top;\n",
       "    }\n",
       "\n",
       "    .dataframe thead th {\n",
       "        text-align: right;\n",
       "    }\n",
       "</style>\n",
       "<table border=\"1\" class=\"dataframe\">\n",
       "  <thead>\n",
       "    <tr style=\"text-align: right;\">\n",
       "      <th></th>\n",
       "      <th>item_id</th>\n",
       "      <th>class1_id</th>\n",
       "      <th>class_id</th>\n",
       "      <th>brand_id</th>\n",
       "      <th>price</th>\n",
       "      <th>behavior_type</th>\n",
       "      <th>date</th>\n",
       "      <th>user_id</th>\n",
       "    </tr>\n",
       "  </thead>\n",
       "  <tbody>\n",
       "    <tr>\n",
       "      <th>0</th>\n",
       "      <td>43152</td>\n",
       "      <td>50022703</td>\n",
       "      <td>50003881</td>\n",
       "      <td>30652</td>\n",
       "      <td>1749.0</td>\n",
       "      <td>clk</td>\n",
       "      <td>20190613</td>\n",
       "      <td>722650079</td>\n",
       "    </tr>\n",
       "    <tr>\n",
       "      <th>1</th>\n",
       "      <td>43152</td>\n",
       "      <td>50022703</td>\n",
       "      <td>50003881</td>\n",
       "      <td>30652</td>\n",
       "      <td>1749.0</td>\n",
       "      <td>clk</td>\n",
       "      <td>20190614</td>\n",
       "      <td>677107887</td>\n",
       "    </tr>\n",
       "    <tr>\n",
       "      <th>2</th>\n",
       "      <td>43152</td>\n",
       "      <td>50022703</td>\n",
       "      <td>50003881</td>\n",
       "      <td>30652</td>\n",
       "      <td>1749.0</td>\n",
       "      <td>clk</td>\n",
       "      <td>20190614</td>\n",
       "      <td>677107887</td>\n",
       "    </tr>\n",
       "    <tr>\n",
       "      <th>3</th>\n",
       "      <td>43152</td>\n",
       "      <td>50022703</td>\n",
       "      <td>50003881</td>\n",
       "      <td>30652</td>\n",
       "      <td>1749.0</td>\n",
       "      <td>clk</td>\n",
       "      <td>20190616</td>\n",
       "      <td>677107887</td>\n",
       "    </tr>\n",
       "    <tr>\n",
       "      <th>4</th>\n",
       "      <td>43152</td>\n",
       "      <td>50022703</td>\n",
       "      <td>50003881</td>\n",
       "      <td>30652</td>\n",
       "      <td>1749.0</td>\n",
       "      <td>clk</td>\n",
       "      <td>20190614</td>\n",
       "      <td>677107887</td>\n",
       "    </tr>\n",
       "  </tbody>\n",
       "</table>\n",
       "</div>"
      ],
      "text/plain": [
       "   item_id  class1_id  class_id  brand_id   price behavior_type      date  \\\n",
       "0    43152   50022703  50003881     30652  1749.0           clk  20190613   \n",
       "1    43152   50022703  50003881     30652  1749.0           clk  20190614   \n",
       "2    43152   50022703  50003881     30652  1749.0           clk  20190614   \n",
       "3    43152   50022703  50003881     30652  1749.0           clk  20190616   \n",
       "4    43152   50022703  50003881     30652  1749.0           clk  20190614   \n",
       "\n",
       "     user_id  \n",
       "0  722650079  \n",
       "1  677107887  \n",
       "2  677107887  \n",
       "3  677107887  \n",
       "4  677107887  "
      ]
     },
     "execution_count": 8,
     "metadata": {},
     "output_type": "execute_result"
    }
   ],
   "source": [
    "behavior_brand.head()"
   ]
  },
  {
   "cell_type": "code",
   "execution_count": 9,
   "metadata": {},
   "outputs": [],
   "source": [
    "behavior_brand.to_csv('behavior_brand.csv',index=False)"
   ]
  },
  {
   "cell_type": "code",
   "execution_count": null,
   "metadata": {},
   "outputs": [
    {
     "name": "stdout",
     "output_type": "stream",
     "text": [
      "27445724\n",
      "9655434\n"
     ]
    }
   ],
   "source": [
    "train=behavior_brand.loc[behavior['date']<20190618]\n",
    "test=behavior_brand.loc[behavior['date']>=20190618]\n",
    "print(len(train.index))\n",
    "print(len(test.index))\n",
    "train.to_csv('behavior_brand_8.csv',index=False)\n",
    "test.to_csv('behavior_brand_3.csv',index=False)"
   ]
  },
  {
   "cell_type": "code",
   "execution_count": 5,
   "metadata": {},
   "outputs": [],
   "source": [
    "import gc"
   ]
  },
  {
   "cell_type": "code",
   "execution_count": 6,
   "metadata": {},
   "outputs": [
    {
     "data": {
      "text/plain": [
       "7"
      ]
     },
     "execution_count": 6,
     "metadata": {},
     "output_type": "execute_result"
    }
   ],
   "source": [
    "gc.collect()"
   ]
  },
  {
   "cell_type": "code",
   "execution_count": null,
   "metadata": {},
   "outputs": [],
   "source": []
  }
 ],
 "metadata": {
  "kernelspec": {
   "display_name": "Python 3",
   "language": "python",
   "name": "python3"
  },
  "language_info": {
   "codemirror_mode": {
    "name": "ipython",
    "version": 3
   },
   "file_extension": ".py",
   "mimetype": "text/x-python",
   "name": "python",
   "nbconvert_exporter": "python",
   "pygments_lexer": "ipython3",
   "version": "3.7.0"
  },
  "toc": {
   "base_numbering": 1,
   "nav_menu": {},
   "number_sections": true,
   "sideBar": true,
   "skip_h1_title": false,
   "title_cell": "Table of Contents",
   "title_sidebar": "Contents",
   "toc_cell": false,
   "toc_position": {},
   "toc_section_display": true,
   "toc_window_display": false
  }
 },
 "nbformat": 4,
 "nbformat_minor": 2
}
