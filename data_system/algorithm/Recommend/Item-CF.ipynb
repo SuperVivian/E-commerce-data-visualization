{
 "cells": [
  {
   "cell_type": "code",
   "execution_count": 1,
   "metadata": {},
   "outputs": [],
   "source": [
    "import math\n",
    "from operator import itemgetter\n",
    "import time"
   ]
  },
  {
   "cell_type": "markdown",
   "metadata": {},
   "source": [
    "# 定义save和load模型的函数"
   ]
  },
  {
   "cell_type": "code",
   "execution_count": 2,
   "metadata": {},
   "outputs": [],
   "source": [
    "import pickle\n",
    "\n",
    "def save_obj(obj, name ):\n",
    "    with open('obj/'+ name + '.pkl', 'wb') as f:\n",
    "        pickle.dump(obj, f, pickle.HIGHEST_PROTOCOL)\n",
    "\n",
    "def load_obj(name ):\n",
    "    with open('obj/' + name + '.pkl', 'rb') as f:\n",
    "        return pickle.load(f)"
   ]
  },
  {
   "cell_type": "markdown",
   "metadata": {},
   "source": [
    "# 定义变量"
   ]
  },
  {
   "cell_type": "code",
   "execution_count": 4,
   "metadata": {},
   "outputs": [
    {
     "name": "stdout",
     "output_type": "stream",
     "text": [
      "Similar item number = 20\n",
      "Recommneded item number = 10\n"
     ]
    }
   ],
   "source": [
    "train_file = 'class1_train.csv'\n",
    "test_file = 'class1_test.csv'\n",
    "n_sim_item = 20\n",
    "n_rec_item = 10\n",
    "print('Similar item number = %d' % n_sim_item)\n",
    "print('Recommneded item number = %d' % n_rec_item)\n",
    "# 将数据集划分为训练集和测试集\n",
    "trainSet = {}\n",
    "testSet = {}\n",
    "# 商品相似度矩阵\n",
    "itm_sim_matrix = {}\n",
    "item_popular = {}  # 全局热门商品\n",
    "item_count = 0\n",
    "# 读文件，返回文件的每一行\n",
    "def load_file(filename):\n",
    "    with open(filename, 'r') as f:\n",
    "        for i, line in enumerate(f):\n",
    "            yield line.strip('\\r\\n')\n",
    "    print('Load %s success!' % filename)"
   ]
  },
  {
   "cell_type": "markdown",
   "metadata": {},
   "source": [
    "# 加载训练集"
   ]
  },
  {
   "cell_type": "code",
   "execution_count": 5,
   "metadata": {},
   "outputs": [
    {
     "name": "stdout",
     "output_type": "stream",
     "text": [
      "Load class1_train.csv success!\n",
      "TrainSet behavior = 2837067\n",
      "TrainSet users = 163810\n",
      "加载训练集用了4.138351s\n"
     ]
    }
   ],
   "source": [
    "t1=time.time()\n",
    "#加载、解析训练集\n",
    "trainSet_len = 0\n",
    "for line in load_file(train_file):\n",
    "    user, item, clk_count = line.split(',')  # 这里要事先统计出商品被该用户点击的次数\n",
    "    trainSet.setdefault(user, {})#添加一个用户\n",
    "    trainSet[user][item] = clk_count#给用户添加一个商品，值为用户对该商品的点击数（连续日期内）\n",
    "    trainSet_len += 1\n",
    "print('TrainSet behavior = %s' % trainSet_len)\n",
    "print('TrainSet users = '+str(len(trainSet)))\n",
    "t2=time.time()\n",
    "print('加载训练集用了%fs' % (t2-t1))"
   ]
  },
  {
   "cell_type": "markdown",
   "metadata": {},
   "source": [
    "# 加载测试集"
   ]
  },
  {
   "cell_type": "code",
   "execution_count": 6,
   "metadata": {},
   "outputs": [
    {
     "name": "stdout",
     "output_type": "stream",
     "text": [
      "Load class1_test.csv success!\n",
      "TestSet behavior = 1891708\n",
      "TestSet users = 163705\n",
      "加载测试集用了2.366015s\n"
     ]
    }
   ],
   "source": [
    "t1=time.time()\n",
    "#加载、解析测试集\n",
    "testSet_len = 0\n",
    "for line in load_file(test_file):\n",
    "    user, item, clk_count = line.split(',')  # 这里要事先统计出商品被该用户点击的次数\n",
    "    testSet.setdefault(user, {})\n",
    "    testSet[user][item] = clk_count\n",
    "    testSet_len += 1\n",
    "print('TestSet behavior = %s' % testSet_len)\n",
    "print('TestSet users = '+str(len(testSet)))\n",
    "t2=time.time()\n",
    "print('加载测试集用了%fs'% (t2-t1))"
   ]
  },
  {
   "cell_type": "markdown",
   "metadata": {},
   "source": [
    "# 计算全局热门商品"
   ]
  },
  {
   "cell_type": "code",
   "execution_count": 7,
   "metadata": {},
   "outputs": [
    {
     "name": "stdout",
     "output_type": "stream",
     "text": [
      "Total item number = 110\n",
      "计算全局热门商品0.658630s\n"
     ]
    }
   ],
   "source": [
    "t1=time.time()\n",
    "for user, items in trainSet.items():#对于训练集中的每个用户、该用户点击过的商品列表\n",
    "    for item in items:#对于商品列表中的每个商品\n",
    "        if item not in item_popular:#如果没有添加到全局热门商品列表中\n",
    "            item_popular[item] = 0#添加进去，默认值为0\n",
    "        item_popular[item] += 1#添加进去之后，用户数+1。\n",
    "\n",
    "item_count = len(item_popular)#对训练集遍历一遍后，得到所有商品的数量\n",
    "print(\"Total item number = %d\" % item_count)\n",
    "t2=time.time()\n",
    "print('计算全局热门商品%fs'% (t2-t1))"
   ]
  },
  {
   "cell_type": "markdown",
   "metadata": {},
   "source": [
    "# 保存全局热门商品"
   ]
  },
  {
   "cell_type": "code",
   "execution_count": 8,
   "metadata": {},
   "outputs": [],
   "source": [
    "save_obj(item_popular,'class1_popular')"
   ]
  },
  {
   "cell_type": "markdown",
   "metadata": {},
   "source": [
    "# 计算商品相交用户数矩阵"
   ]
  },
  {
   "cell_type": "code",
   "execution_count": 9,
   "metadata": {
    "scrolled": true
   },
   "outputs": [
    {
     "name": "stdout",
     "output_type": "stream",
     "text": [
      "Build co-rated users matrix success!\n",
      "计算每两个商品相交的用户数32.587328s\n"
     ]
    }
   ],
   "source": [
    "# 计算出每两个商品相交的用户数\n",
    "t1=time.time()\n",
    "# b_count=0\n",
    "for user, items in trainSet.items():#对每个用户、及他的点击商品列表来说\n",
    "    for m1 in items:#遍历一次商品列表\n",
    "        for m2 in items:#第二次遍历商品列表\n",
    "            if m1 == m2:#自己和自己不用做相似度比较\n",
    "                continue\n",
    "            itm_sim_matrix.setdefault(m1, {})#商品相似列表，添加一个商品\n",
    "            itm_sim_matrix[m1].setdefault(m2, 0)#该商品添加一个相似商品\n",
    "            itm_sim_matrix[m1][m2] += 1#他们的相似度+1，即有一个人同时喜欢这两个商品\n",
    "#     b_count+=1\n",
    "#     print(b_count)\n",
    "print(\"Build co-rated users matrix success!\")\n",
    "t2=time.time()\n",
    "print('计算每两个商品相交的用户数%fs'% (t2-t1))#22.5min --15s"
   ]
  },
  {
   "cell_type": "markdown",
   "metadata": {},
   "source": [
    "# 保存商品相交用户数矩阵"
   ]
  },
  {
   "cell_type": "code",
   "execution_count": 10,
   "metadata": {},
   "outputs": [],
   "source": [
    "save_obj(itm_sim_matrix,'sim_matrix_class1')"
   ]
  },
  {
   "cell_type": "markdown",
   "metadata": {},
   "source": [
    "# 根据公式计算商品相似度"
   ]
  },
  {
   "cell_type": "code",
   "execution_count": 11,
   "metadata": {},
   "outputs": [
    {
     "name": "stdout",
     "output_type": "stream",
     "text": [
      "Calculating item similarity matrix ...\n",
      "itm_sim_matrix length = 109\n",
      "Calculate item similarity matrix success!\n",
      "计算商品相似度矩阵0.011968s\n"
     ]
    }
   ],
   "source": [
    "# 根据公式计算商品之间的相似性\n",
    "t1=time.time()\n",
    "print(\"Calculating item similarity matrix ...\")\n",
    "# b_count=0\n",
    "m_len=len(itm_sim_matrix)\n",
    "print(\"itm_sim_matrix length = %d\" % m_len)\n",
    "for m1, related_items in itm_sim_matrix.items():#对每个商品，及它相似的商品列表来说\n",
    "    for m2, count in related_items.items():#对相似商品列表中的每个商品，及它们相交的用户数\n",
    "        # 注意0向量的处理，即某电影的用户数为0\n",
    "        if item_popular[m1] == 0 or item_popular[m2] == 0:\n",
    "            itm_sim_matrix[m1][m2] = 0\n",
    "        else:\n",
    "            itm_sim_matrix[m1][m2] = count / math.sqrt(item_popular[m1] * item_popular[m2])\n",
    "        #减轻了热门物品会和很多物品相似的可能性\n",
    "#     b_count+=1\n",
    "#     if b_count%100 == 0 :\n",
    "#         print('完成%f'%(b_count/m_len*100.0))\n",
    "print('Calculate item similarity matrix success!')\n",
    "t2=time.time()\n",
    "print('计算商品相似度矩阵%fs'% (t2-t1))#16min  --2s"
   ]
  },
  {
   "cell_type": "code",
   "execution_count": 12,
   "metadata": {},
   "outputs": [
    {
     "name": "stdout",
     "output_type": "stream",
     "text": [
      "保存商品相似度矩阵用了0.002992s\n"
     ]
    }
   ],
   "source": [
    "t1=time.time()\n",
    "save_obj(itm_sim_matrix,'class1_sim_matrix')\n",
    "t2=time.time()\n",
    "print('保存商品相似度矩阵用了%fs'% (t2-t1))#19.5min"
   ]
  },
  {
   "cell_type": "markdown",
   "metadata": {},
   "source": [
    "# 针对目标用户U，找到K个相似的商品，并推荐其N个商品"
   ]
  },
  {
   "cell_type": "code",
   "execution_count": 56,
   "metadata": {},
   "outputs": [
    {
     "name": "stdout",
     "output_type": "stream",
     "text": [
      "[('16', 135056), ('1801', 112711), ('50010788', 102771), ('50006843', 95195), ('50025705', 91392), ('1625', 90288), ('30', 83301), ('50002766', 78134), ('50012029', 69455), ('50006842', 69075)]\n",
      "获得前N个热门商品用了0.000000s\n"
     ]
    }
   ],
   "source": [
    "#找出热门商品列表中的N个商品做备用\n",
    "K = 100\n",
    "N = 10\n",
    "popular_rank=[] \n",
    "\n",
    "t1=time.time()\n",
    "item_popular=load_obj('class1_popular')\n",
    "popular_rank=sorted(item_popular.items(), key=itemgetter(1), reverse=True)[:N]#根据商品点击人数排序\n",
    "t2=time.time()\n",
    "print(popular_rank)\n",
    "print('获得前N个热门商品用了%fs'% (t2-t1))"
   ]
  },
  {
   "cell_type": "code",
   "execution_count": 57,
   "metadata": {},
   "outputs": [
    {
     "name": "stdout",
     "output_type": "stream",
     "text": [
      "[('16', 135056), ('1801', 112711), ('50010788', 102771), ('50006843', 95195), ('50025705', 91392), ('1625', 90288), ('30', 83301), ('50002766', 78134), ('50012029', 69455), ('50006842', 69075)]\n",
      "加载商品相似矩阵用了0.003011s\n"
     ]
    }
   ],
   "source": [
    "#找到和用户历史上感兴趣的物品最相似的物品集合\n",
    "t1=time.time()\n",
    "itm_sim_matrix=load_obj('class1_sim_matrix')\n",
    "print(popular_rank)\n",
    "t2=time.time()\n",
    "print('加载商品相似矩阵用了%fs'% (t2-t1))\n",
    "\n",
    "def recommend(user):\n",
    "    new_user=False\n",
    "    new_items_count=0\n",
    "    rank = {}\n",
    "    if user not in trainSet:#新用户，没有过去点击的信息\n",
    "        new_user=True\n",
    "        return popular_rank,new_user,new_items_count #全部推荐热门商品\n",
    "    else:\n",
    "        clicked_items = trainSet[user]\n",
    "        for item, clk_count in clicked_items.items():#对于该用户点击过的商品列表中的每个商品、点击次数\n",
    "            #找到与item最相似的K个商品\n",
    "            if item not in itm_sim_matrix:\n",
    "                new_items_count+=1\n",
    "                continue\n",
    "            else:\n",
    "                for related_item, w in sorted(itm_sim_matrix[item].items(), key=itemgetter(1), reverse=True)[:K]:\n",
    "                    if related_item in clicked_items:#如果点击过了，就不再推荐\n",
    "                        continue\n",
    "                    rank.setdefault(related_item, 0)#推荐列表添加第一个相似商品\n",
    "                    rank[related_item] += w * float(clk_count)#计算该相似商品的相关度\n",
    "    #返回排序后的推荐商品列表\n",
    "    rank_list=sorted(rank.items(), key=itemgetter(1), reverse=True)[:N]\n",
    "    rank_len=len(rank_list)\n",
    "    if rank_len<N:\n",
    "        for i in range(N-rank_len):\n",
    "            rank_list.append(popular_rank[i])\n",
    "    return rank_list,new_user,new_items_count"
   ]
  },
  {
   "cell_type": "markdown",
   "metadata": {},
   "source": [
    "# 对测试集进行测试"
   ]
  },
  {
   "cell_type": "code",
   "execution_count": 70,
   "metadata": {},
   "outputs": [
    {
     "data": {
      "text/html": [
       "<div>\n",
       "<style scoped>\n",
       "    .dataframe tbody tr th:only-of-type {\n",
       "        vertical-align: middle;\n",
       "    }\n",
       "\n",
       "    .dataframe tbody tr th {\n",
       "        vertical-align: top;\n",
       "    }\n",
       "\n",
       "    .dataframe thead th {\n",
       "        text-align: right;\n",
       "    }\n",
       "</style>\n",
       "<table border=\"1\" class=\"dataframe\">\n",
       "  <thead>\n",
       "    <tr style=\"text-align: right;\">\n",
       "      <th></th>\n",
       "      <th>user_id</th>\n",
       "      <th>class1_id</th>\n",
       "      <th>clk</th>\n",
       "    </tr>\n",
       "  </thead>\n",
       "  <tbody>\n",
       "    <tr>\n",
       "      <th>0</th>\n",
       "      <td>51309</td>\n",
       "      <td>16</td>\n",
       "      <td>24</td>\n",
       "    </tr>\n",
       "    <tr>\n",
       "      <th>1</th>\n",
       "      <td>51309</td>\n",
       "      <td>21</td>\n",
       "      <td>1</td>\n",
       "    </tr>\n",
       "    <tr>\n",
       "      <th>2</th>\n",
       "      <td>51309</td>\n",
       "      <td>25</td>\n",
       "      <td>8</td>\n",
       "    </tr>\n",
       "    <tr>\n",
       "      <th>3</th>\n",
       "      <td>51309</td>\n",
       "      <td>26</td>\n",
       "      <td>1</td>\n",
       "    </tr>\n",
       "    <tr>\n",
       "      <th>4</th>\n",
       "      <td>51309</td>\n",
       "      <td>1512</td>\n",
       "      <td>2</td>\n",
       "    </tr>\n",
       "  </tbody>\n",
       "</table>\n",
       "</div>"
      ],
      "text/plain": [
       "   user_id  class1_id  clk\n",
       "0    51309         16   24\n",
       "1    51309         21    1\n",
       "2    51309         25    8\n",
       "3    51309         26    1\n",
       "4    51309       1512    2"
      ]
     },
     "execution_count": 70,
     "metadata": {},
     "output_type": "execute_result"
    }
   ],
   "source": [
    "#查询有没有我要查的用户：\n",
    "import pandas as pd\n",
    "\n",
    "test_df=pd.read_csv('class1_test.csv')\n",
    "test_df.head()"
   ]
  },
  {
   "cell_type": "code",
   "execution_count": 97,
   "metadata": {
    "scrolled": true
   },
   "outputs": [
    {
     "name": "stdout",
     "output_type": "stream",
     "text": [
      "['758255951', '6752.5', '313.0', '3.0', '6.0', '0.0', '2', '2', '2', '1', '3190.0', '3290.0', '3290.0', '2990.0', '5\\n']\n"
     ]
    }
   ],
   "source": [
    "with open('classify_value3.txt', 'r') as f:\n",
    "    for i, line in enumerate(f):\n",
    "        line.strip('\\r\\n')\n",
    "        items = line.split('\\t')\n",
    "        if 5==int(items[-1]):\n",
    "            print(items)\n",
    "            break"
   ]
  },
  {
   "cell_type": "code",
   "execution_count": 30,
   "metadata": {},
   "outputs": [
    {
     "data": {
      "text/plain": [
       "user_id      int64\n",
       "class1_id    int64\n",
       "clk          int64\n",
       "dtype: object"
      ]
     },
     "execution_count": 30,
     "metadata": {},
     "output_type": "execute_result"
    }
   ],
   "source": [
    "test_df.dtypes"
   ]
  },
  {
   "cell_type": "code",
   "execution_count": 117,
   "metadata": {
    "scrolled": true
   },
   "outputs": [
    {
     "name": "stdout",
     "output_type": "stream",
     "text": [
      "13\n"
     ]
    }
   ],
   "source": [
    "user=758255951\n",
    "print(len(test_df.loc[test_df['user_id']==user,:]))"
   ]
  },
  {
   "cell_type": "code",
   "execution_count": 118,
   "metadata": {},
   "outputs": [
    {
     "name": "stdout",
     "output_type": "stream",
     "text": [
      "Evaluating start ...\n",
      "Test User:\n",
      "758255951\n",
      "Test Items:\n",
      "{'16': '4', '30': '18', '1625': '2', '50006842': '2', '50008165': '2', '50010728': '2', '50011397': '1', '50011699': '25', '50011740': '1', '50012029': '18', '50468001': '1', '50510002': '10', '122650005': '1'}\n",
      "Recommend Items:\n",
      "[('16', 135056), ('1801', 112711), ('50010788', 102771), ('50006843', 95195), ('50025705', 91392), ('1625', 90288), ('30', 83301), ('50002766', 78134), ('50012029', 69455), ('50006842', 69075)]\n",
      "Hit Items:\n",
      "['16', '1625', '30', '50012029', '50006842']\n"
     ]
    }
   ],
   "source": [
    "print('Evaluating start ...')\n",
    "# for i, user in enumerate(testSet):#遍历测试集的每个用户\n",
    "#     if i==1:\n",
    "print('Test User:')\n",
    "print(str(user))\n",
    "test_items = testSet.get(str(user), None)    #测试集中用户点击过的商品\n",
    "print('Test Items:')\n",
    "print(test_items)\n",
    "rec_items,new_user,new_item = recommend(user)   #得到推荐的商品及计算出的用户对它们的兴趣\n",
    "print('Recommend Items:')\n",
    "print(rec_items)\n",
    "hit=[]\n",
    "for item, w in rec_items: #遍历给user推荐的商品\n",
    "    if item in test_items:    #测试集中有该商品\n",
    "        hit.append(item)              #推荐命中+1        \n",
    "print('Hit Items:')\n",
    "print(hit)\n",
    "#         break"
   ]
  },
  {
   "cell_type": "code",
   "execution_count": 116,
   "metadata": {},
   "outputs": [
    {
     "name": "stdout",
     "output_type": "stream",
     "text": [
      "[\n",
      "[\n",
      "[0,0,0],[0,1,0],[0,2,0],[0,3,0],[0,4,0],[0,5,0],[0,6,0],[0,7,0],[0,8,0],[0,9,0],[0,10,0],[0,11,0],[0,12,0],[0,13,0],[0,14,0],[0,15,0],[0,16,0],[0,17,0],[0,18,0],[0,19,0],[0,20,0],[0,21,0],[0,22,0],[0,23,0],[0,24,0],[0,25,0],[0,26,0],[0,27,0],[0,28,0],[0,29,0],[0,30,0],[0,31,0],[0,32,0],[0,33,0],[0,34,0],[0,35,0],[0,36,0],[0,37,0],[0,38,0],[0,39,0],[0,40,0],[0,41,0],[0,42,0],[0,43,0],[0,44,0],[0,45,0],[0,46,0]],\n",
      "[\n",
      "[1,0,0],[1,1,0],[1,2,0],[1,3,0],[1,4,0],[1,5,0],[1,6,0],[1,7,0],[1,8,0],[1,9,0],[1,10,0],[1,11,0],[1,12,0],[1,13,0],[1,14,0],[1,15,0],[1,16,0],[1,17,0],[1,18,0],[1,19,0],[1,20,0],[1,21,0],[1,22,0],[1,23,0],[1,24,0],[1,25,0],[1,26,0],[1,27,0],[1,28,0],[1,29,0],[1,30,0],[1,31,0],[1,32,0],[1,33,0],[1,34,0],[1,35,0],[1,36,0],[1,37,0],[1,38,0],[1,39,0],[1,40,0],[1,41,0],[1,42,0],[1,43,0],[1,44,0],[1,45,0],[1,46,0]],\n",
      "[\n",
      "[2,0,0],[2,1,0],[2,2,0],[2,3,0],[2,4,0],[2,5,0],[2,6,0],[2,7,0],[2,8,0],[2,9,0],[2,10,0],[2,11,0],[2,12,0],[2,13,0],[2,14,0],[2,15,0],[2,16,0],[2,17,0],[2,18,0],[2,19,0],[2,20,0],[2,21,0],[2,22,0],[2,23,0],[2,24,0],[2,25,0],[2,26,0],[2,27,0],[2,28,0],[2,29,0],[2,30,0],[2,31,0],[2,32,0],[2,33,0],[2,34,0],[2,35,0],[2,36,0],[2,37,0],[2,38,0],[2,39,0],[2,40,0],[2,41,0],[2,42,0],[2,43,0],[2,44,0],[2,45,0],[2,46,0]],\n",
      "[\n",
      "[3,0,0],[3,1,0],[3,2,0],[3,3,0],[3,4,0],[3,5,0],[3,6,0],[3,7,0],[3,8,0],[3,9,0],[3,10,0],[3,11,0],[3,12,0],[3,13,0],[3,14,0],[3,15,0],[3,16,0],[3,17,0],[3,18,0],[3,19,0],[3,20,0],[3,21,0],[3,22,0],[3,23,0],[3,24,0],[3,25,0],[3,26,0],[3,27,0],[3,28,0],[3,29,0],[3,30,0],[3,31,0],[3,32,0],[3,33,0],[3,34,0],[3,35,0],[3,36,0],[3,37,0],[3,38,0],[3,39,0],[3,40,0],[3,41,0],[3,42,0],[3,43,0],[3,44,0],[3,45,0],[3,46,0]],\n",
      "[\n",
      "[4,0,0],[4,1,0],[4,2,0],[4,3,0],[4,4,0],[4,5,0],[4,6,0],[4,7,0],[4,8,0],[4,9,0],[4,10,0],[4,11,0],[4,12,0],[4,13,0],[4,14,0],[4,15,0],[4,16,0],[4,17,0],[4,18,0],[4,19,0],[4,20,0],[4,21,0],[4,22,0],[4,23,0],[4,24,0],[4,25,0],[4,26,0],[4,27,0],[4,28,0],[4,29,0],[4,30,0],[4,31,0],[4,32,0],[4,33,0],[4,34,0],[4,35,0],[4,36,0],[4,37,0],[4,38,0],[4,39,0],[4,40,0],[4,41,0],[4,42,0],[4,43,0],[4,44,0],[4,45,0],[4,46,0]],\n",
      "[\n",
      "[5,0,0],[5,1,0],[5,2,0],[5,3,0],[5,4,0],[5,5,0],[5,6,0],[5,7,0],[5,8,0],[5,9,0],[5,10,0],[5,11,0],[5,12,0],[5,13,0],[5,14,0],[5,15,0],[5,16,0],[5,17,0],[5,18,0],[5,19,0],[5,20,0],[5,21,0],[5,22,0],[5,23,0],[5,24,0],[5,25,0],[5,26,0],[5,27,0],[5,28,0],[5,29,0],[5,30,0],[5,31,0],[5,32,0],[5,33,0],[5,34,0],[5,35,0],[5,36,0],[5,37,0],[5,38,0],[5,39,0],[5,40,0],[5,41,0],[5,42,0],[5,43,0],[5,44,0],[5,45,0],[5,46,0]]"
     ]
    }
   ],
   "source": [
    "print('[')\n",
    "for i in range(6):\n",
    "    print('[')\n",
    "    for j in range(47): \n",
    "        print('[%d,%d,%d]'%(i,j,0),end='')      \n",
    "        if j!=46:\n",
    "            print(',',end='')\n",
    "    print(']',end='')  \n",
    "    if i!=5:\n",
    "        print(',')\n"
   ]
  },
  {
   "cell_type": "code",
   "execution_count": 114,
   "metadata": {},
   "outputs": [],
   "source": [
    "import numpy as np"
   ]
  },
  {
   "cell_type": "code",
   "execution_count": null,
   "metadata": {},
   "outputs": [],
   "source": [
    "np.array()"
   ]
  },
  {
   "cell_type": "code",
   "execution_count": 15,
   "metadata": {},
   "outputs": [
    {
     "name": "stdout",
     "output_type": "stream",
     "text": [
      "Evaluating start ...\n",
      "precisioin=0.0341\trecall=0.1476\tcoverage=0.9909\n",
      "new user percentage = 0.000043\n",
      "new item percentage = 0.086538\n"
     ]
    }
   ],
   "source": [
    "print('Evaluating start ...')\n",
    "# 准确率和召回率\n",
    "hit = 0\n",
    "rec_count = 0\n",
    "test_count = 0\n",
    "# 覆盖率\n",
    "all_rec_items = set()#不重复的所有推荐商品\n",
    "\n",
    "new_user_count=0\n",
    "new_item_count=0\n",
    "\n",
    "for i, user in enumerate(testSet):#遍历测试集的每个用户\n",
    "    test_items = testSet.get(user, {})    #测试集中用户点击过的商品\n",
    "    rec_items,new_user,new_item = recommend(user)   #得到推荐的商品及计算出的用户对它们的兴趣\n",
    "    new_item_count+=count\n",
    "    if new_user:\n",
    "        new_user_count+=1\n",
    "    \n",
    "    for item, w in rec_items: #遍历给user推荐的商品\n",
    "        if item in test_items:    #测试集中有该商品\n",
    "            hit += 1                #推荐命中+1\n",
    "        all_rec_items.add(item)\n",
    "    rec_count += N\n",
    "    test_count += len(test_items)\n",
    "\n",
    "precision = hit / (1.0 * rec_count)#总的命中数/总的推荐商品数\n",
    "recall = hit / (1.0 * test_count)#总的命中数/测试集中用户点击过的商品总数\n",
    "coverage = len(all_rec_items) / (1.0 * item_count)#不重复的所有推荐商品/训练集中所有商品数\n",
    "print('precisioin=%.4f\\trecall=%.4f\\tcoverage=%.4f' % (precision, recall, coverage))\n",
    "print('new user percentage = %f'% (new_user_count/len(testSet)))\n",
    "print('new item percentage = %f'% (new_item_count/test_count))"
   ]
  }
 ],
 "metadata": {
  "kernelspec": {
   "display_name": "Python 3",
   "language": "python",
   "name": "python3"
  },
  "language_info": {
   "codemirror_mode": {
    "name": "ipython",
    "version": 3
   },
   "file_extension": ".py",
   "mimetype": "text/x-python",
   "name": "python",
   "nbconvert_exporter": "python",
   "pygments_lexer": "ipython3",
   "version": "3.7.0"
  },
  "toc": {
   "base_numbering": 1,
   "nav_menu": {},
   "number_sections": true,
   "sideBar": true,
   "skip_h1_title": false,
   "title_cell": "Table of Contents",
   "title_sidebar": "Contents",
   "toc_cell": false,
   "toc_position": {},
   "toc_section_display": true,
   "toc_window_display": false
  }
 },
 "nbformat": 4,
 "nbformat_minor": 2
}
